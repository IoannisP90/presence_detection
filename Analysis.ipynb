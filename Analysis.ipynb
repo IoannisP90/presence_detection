{
 "cells": [
  {
   "cell_type": "code",
   "execution_count": 60,
   "metadata": {},
   "outputs": [],
   "source": [
    "import pandas as pd\n",
    "import numpy as np\n",
    "import matplotlib.pyplot as plt\n",
    "import datetime as dt\n",
    "from bisect import bisect"
   ]
  },
  {
   "cell_type": "markdown",
   "metadata": {},
   "source": [
    "### Read data and check descriptive charactiristics"
   ]
  },
  {
   "cell_type": "code",
   "execution_count": 61,
   "metadata": {},
   "outputs": [],
   "source": [
    "electricity_flow_df = pd.read_csv(\"./data/electricity_flow.csv\")\n",
    "inside_temperature_df = pd.read_csv(\"./data/inside_temperature.csv\")"
   ]
  },
  {
   "cell_type": "code",
   "execution_count": 62,
   "metadata": {},
   "outputs": [
    {
     "name": "stdout",
     "output_type": "stream",
     "text": [
      "<class 'pandas.core.frame.DataFrame'>\n",
      "RangeIndex: 1999444 entries, 0 to 1999443\n",
      "Data columns (total 3 columns):\n",
      " #   Column        Dtype  \n",
      "---  ------        -----  \n",
      " 0   electricity   float64\n",
      " 1   utc_datetime  object \n",
      " 2   user          object \n",
      "dtypes: float64(1), object(2)\n",
      "memory usage: 45.8+ MB\n"
     ]
    }
   ],
   "source": [
    "electricity_flow_df.info()"
   ]
  },
  {
   "cell_type": "code",
   "execution_count": 63,
   "metadata": {},
   "outputs": [
    {
     "data": {
      "text/html": [
       "<div>\n",
       "<style scoped>\n",
       "    .dataframe tbody tr th:only-of-type {\n",
       "        vertical-align: middle;\n",
       "    }\n",
       "\n",
       "    .dataframe tbody tr th {\n",
       "        vertical-align: top;\n",
       "    }\n",
       "\n",
       "    .dataframe thead th {\n",
       "        text-align: right;\n",
       "    }\n",
       "</style>\n",
       "<table border=\"1\" class=\"dataframe\">\n",
       "  <thead>\n",
       "    <tr style=\"text-align: right;\">\n",
       "      <th></th>\n",
       "      <th>electricity</th>\n",
       "      <th>utc_datetime</th>\n",
       "      <th>user</th>\n",
       "    </tr>\n",
       "  </thead>\n",
       "  <tbody>\n",
       "    <tr>\n",
       "      <th>0</th>\n",
       "      <td>901.0</td>\n",
       "      <td>2016-10-01 00:00:00</td>\n",
       "      <td>014dd64db3</td>\n",
       "    </tr>\n",
       "    <tr>\n",
       "      <th>1</th>\n",
       "      <td>1123.0</td>\n",
       "      <td>2016-10-01 00:01:00</td>\n",
       "      <td>014dd64db3</td>\n",
       "    </tr>\n",
       "    <tr>\n",
       "      <th>2</th>\n",
       "      <td>910.0</td>\n",
       "      <td>2016-10-01 00:02:00</td>\n",
       "      <td>014dd64db3</td>\n",
       "    </tr>\n",
       "    <tr>\n",
       "      <th>3</th>\n",
       "      <td>676.0</td>\n",
       "      <td>2016-10-01 00:03:00</td>\n",
       "      <td>014dd64db3</td>\n",
       "    </tr>\n",
       "    <tr>\n",
       "      <th>4</th>\n",
       "      <td>1115.0</td>\n",
       "      <td>2016-10-01 00:04:00</td>\n",
       "      <td>014dd64db3</td>\n",
       "    </tr>\n",
       "  </tbody>\n",
       "</table>\n",
       "</div>"
      ],
      "text/plain": [
       "   electricity         utc_datetime        user\n",
       "0        901.0  2016-10-01 00:00:00  014dd64db3\n",
       "1       1123.0  2016-10-01 00:01:00  014dd64db3\n",
       "2        910.0  2016-10-01 00:02:00  014dd64db3\n",
       "3        676.0  2016-10-01 00:03:00  014dd64db3\n",
       "4       1115.0  2016-10-01 00:04:00  014dd64db3"
      ]
     },
     "execution_count": 63,
     "metadata": {},
     "output_type": "execute_result"
    }
   ],
   "source": [
    "electricity_flow_df.head()"
   ]
  },
  {
   "cell_type": "code",
   "execution_count": 64,
   "metadata": {},
   "outputs": [
    {
     "data": {
      "text/html": [
       "<div>\n",
       "<style scoped>\n",
       "    .dataframe tbody tr th:only-of-type {\n",
       "        vertical-align: middle;\n",
       "    }\n",
       "\n",
       "    .dataframe tbody tr th {\n",
       "        vertical-align: top;\n",
       "    }\n",
       "\n",
       "    .dataframe thead th {\n",
       "        text-align: right;\n",
       "    }\n",
       "</style>\n",
       "<table border=\"1\" class=\"dataframe\">\n",
       "  <thead>\n",
       "    <tr style=\"text-align: right;\">\n",
       "      <th></th>\n",
       "      <th>electricity</th>\n",
       "    </tr>\n",
       "  </thead>\n",
       "  <tbody>\n",
       "    <tr>\n",
       "      <th>count</th>\n",
       "      <td>1.999444e+06</td>\n",
       "    </tr>\n",
       "    <tr>\n",
       "      <th>mean</th>\n",
       "      <td>2.495489e+03</td>\n",
       "    </tr>\n",
       "    <tr>\n",
       "      <th>std</th>\n",
       "      <td>3.859061e+03</td>\n",
       "    </tr>\n",
       "    <tr>\n",
       "      <th>min</th>\n",
       "      <td>0.000000e+00</td>\n",
       "    </tr>\n",
       "    <tr>\n",
       "      <th>25%</th>\n",
       "      <td>5.500000e+02</td>\n",
       "    </tr>\n",
       "    <tr>\n",
       "      <th>50%</th>\n",
       "      <td>1.170000e+03</td>\n",
       "    </tr>\n",
       "    <tr>\n",
       "      <th>75%</th>\n",
       "      <td>2.541000e+03</td>\n",
       "    </tr>\n",
       "    <tr>\n",
       "      <th>max</th>\n",
       "      <td>6.299000e+04</td>\n",
       "    </tr>\n",
       "  </tbody>\n",
       "</table>\n",
       "</div>"
      ],
      "text/plain": [
       "        electricity\n",
       "count  1.999444e+06\n",
       "mean   2.495489e+03\n",
       "std    3.859061e+03\n",
       "min    0.000000e+00\n",
       "25%    5.500000e+02\n",
       "50%    1.170000e+03\n",
       "75%    2.541000e+03\n",
       "max    6.299000e+04"
      ]
     },
     "execution_count": 64,
     "metadata": {},
     "output_type": "execute_result"
    }
   ],
   "source": [
    "electricity_flow_df.describe()"
   ]
  },
  {
   "cell_type": "code",
   "execution_count": 65,
   "metadata": {},
   "outputs": [
    {
     "name": "stdout",
     "output_type": "stream",
     "text": [
      "<class 'pandas.core.frame.DataFrame'>\n",
      "RangeIndex: 2495552 entries, 0 to 2495551\n",
      "Data columns (total 3 columns):\n",
      " #   Column        Dtype  \n",
      "---  ------        -----  \n",
      " 0   inside        float64\n",
      " 1   utc_datetime  object \n",
      " 2   user          object \n",
      "dtypes: float64(1), object(2)\n",
      "memory usage: 57.1+ MB\n"
     ]
    }
   ],
   "source": [
    "inside_temperature_df.info()"
   ]
  },
  {
   "cell_type": "code",
   "execution_count": 66,
   "metadata": {},
   "outputs": [
    {
     "data": {
      "text/html": [
       "<div>\n",
       "<style scoped>\n",
       "    .dataframe tbody tr th:only-of-type {\n",
       "        vertical-align: middle;\n",
       "    }\n",
       "\n",
       "    .dataframe tbody tr th {\n",
       "        vertical-align: top;\n",
       "    }\n",
       "\n",
       "    .dataframe thead th {\n",
       "        text-align: right;\n",
       "    }\n",
       "</style>\n",
       "<table border=\"1\" class=\"dataframe\">\n",
       "  <thead>\n",
       "    <tr style=\"text-align: right;\">\n",
       "      <th></th>\n",
       "      <th>inside</th>\n",
       "      <th>utc_datetime</th>\n",
       "      <th>user</th>\n",
       "    </tr>\n",
       "  </thead>\n",
       "  <tbody>\n",
       "    <tr>\n",
       "      <th>0</th>\n",
       "      <td>22.120001</td>\n",
       "      <td>2016-10-01 00:00:00</td>\n",
       "      <td>014dd64db3</td>\n",
       "    </tr>\n",
       "    <tr>\n",
       "      <th>1</th>\n",
       "      <td>22.120001</td>\n",
       "      <td>2016-10-01 00:01:00</td>\n",
       "      <td>014dd64db3</td>\n",
       "    </tr>\n",
       "    <tr>\n",
       "      <th>2</th>\n",
       "      <td>22.120001</td>\n",
       "      <td>2016-10-01 00:02:00</td>\n",
       "      <td>014dd64db3</td>\n",
       "    </tr>\n",
       "    <tr>\n",
       "      <th>3</th>\n",
       "      <td>22.120001</td>\n",
       "      <td>2016-10-01 00:03:00</td>\n",
       "      <td>014dd64db3</td>\n",
       "    </tr>\n",
       "    <tr>\n",
       "      <th>4</th>\n",
       "      <td>22.110001</td>\n",
       "      <td>2016-10-01 00:04:00</td>\n",
       "      <td>014dd64db3</td>\n",
       "    </tr>\n",
       "  </tbody>\n",
       "</table>\n",
       "</div>"
      ],
      "text/plain": [
       "      inside         utc_datetime        user\n",
       "0  22.120001  2016-10-01 00:00:00  014dd64db3\n",
       "1  22.120001  2016-10-01 00:01:00  014dd64db3\n",
       "2  22.120001  2016-10-01 00:02:00  014dd64db3\n",
       "3  22.120001  2016-10-01 00:03:00  014dd64db3\n",
       "4  22.110001  2016-10-01 00:04:00  014dd64db3"
      ]
     },
     "execution_count": 66,
     "metadata": {},
     "output_type": "execute_result"
    }
   ],
   "source": [
    "inside_temperature_df.head()"
   ]
  },
  {
   "cell_type": "code",
   "execution_count": 67,
   "metadata": {},
   "outputs": [
    {
     "data": {
      "text/html": [
       "<div>\n",
       "<style scoped>\n",
       "    .dataframe tbody tr th:only-of-type {\n",
       "        vertical-align: middle;\n",
       "    }\n",
       "\n",
       "    .dataframe tbody tr th {\n",
       "        vertical-align: top;\n",
       "    }\n",
       "\n",
       "    .dataframe thead th {\n",
       "        text-align: right;\n",
       "    }\n",
       "</style>\n",
       "<table border=\"1\" class=\"dataframe\">\n",
       "  <thead>\n",
       "    <tr style=\"text-align: right;\">\n",
       "      <th></th>\n",
       "      <th>inside</th>\n",
       "    </tr>\n",
       "  </thead>\n",
       "  <tbody>\n",
       "    <tr>\n",
       "      <th>count</th>\n",
       "      <td>2.495552e+06</td>\n",
       "    </tr>\n",
       "    <tr>\n",
       "      <th>mean</th>\n",
       "      <td>2.059301e+01</td>\n",
       "    </tr>\n",
       "    <tr>\n",
       "      <th>std</th>\n",
       "      <td>3.116162e+00</td>\n",
       "    </tr>\n",
       "    <tr>\n",
       "      <th>min</th>\n",
       "      <td>9.630000e+00</td>\n",
       "    </tr>\n",
       "    <tr>\n",
       "      <th>25%</th>\n",
       "      <td>1.929000e+01</td>\n",
       "    </tr>\n",
       "    <tr>\n",
       "      <th>50%</th>\n",
       "      <td>2.031000e+01</td>\n",
       "    </tr>\n",
       "    <tr>\n",
       "      <th>75%</th>\n",
       "      <td>2.144000e+01</td>\n",
       "    </tr>\n",
       "    <tr>\n",
       "      <th>max</th>\n",
       "      <td>6.362000e+01</td>\n",
       "    </tr>\n",
       "  </tbody>\n",
       "</table>\n",
       "</div>"
      ],
      "text/plain": [
       "             inside\n",
       "count  2.495552e+06\n",
       "mean   2.059301e+01\n",
       "std    3.116162e+00\n",
       "min    9.630000e+00\n",
       "25%    1.929000e+01\n",
       "50%    2.031000e+01\n",
       "75%    2.144000e+01\n",
       "max    6.362000e+01"
      ]
     },
     "execution_count": 67,
     "metadata": {},
     "output_type": "execute_result"
    }
   ],
   "source": [
    "inside_temperature_df.describe()"
   ]
  },
  {
   "cell_type": "code",
   "execution_count": 68,
   "metadata": {},
   "outputs": [
    {
     "data": {
      "text/plain": [
       "7ebe99417b    86024\n",
       "d25503e02c    85250\n",
       "83a8f5417b    85007\n",
       "884ee1acd9    84695\n",
       "14210e75b9    84602\n",
       "bb1130540f    84367\n",
       "7a01185704    84313\n",
       "43b58e1a39    84169\n",
       "098405cc91    84109\n",
       "5b5fdbdddf    83945\n",
       "a7c6147a87    83928\n",
       "28177f21a1    83917\n",
       "24946c0715    83838\n",
       "e3e4bd132d    83707\n",
       "8150bfd2f3    83573\n",
       "d2e36328ac    82985\n",
       "f8c2b6b457    82984\n",
       "6c62cd5594    82794\n",
       "838fc20add    82586\n",
       "e49772f37c    82549\n",
       "e5c89ce6e3    82457\n",
       "ac5b5e7eba    82426\n",
       "6b9930c84e    82224\n",
       "ca840c65e3    81865\n",
       "f6e17b16fa    81822\n",
       "baaa89965e    81777\n",
       "cf296158e2    81708\n",
       "55946035c2    81583\n",
       "014dd64db3    81066\n",
       "79a778d605    79282\n",
       "Name: user, dtype: int64"
      ]
     },
     "execution_count": 68,
     "metadata": {},
     "output_type": "execute_result"
    }
   ],
   "source": [
    "inside_temperature_df[\"user\"].value_counts()"
   ]
  },
  {
   "cell_type": "code",
   "execution_count": 69,
   "metadata": {},
   "outputs": [
    {
     "data": {
      "text/plain": [
       "30"
      ]
     },
     "execution_count": 69,
     "metadata": {},
     "output_type": "execute_result"
    }
   ],
   "source": [
    "inside_temperature_df[\"user\"].nunique()"
   ]
  },
  {
   "cell_type": "code",
   "execution_count": 70,
   "metadata": {},
   "outputs": [
    {
     "data": {
      "text/plain": [
       "bb1130540f    87519\n",
       "43b58e1a39    87441\n",
       "7a01185704    87047\n",
       "e49772f37c    86991\n",
       "098405cc91    86603\n",
       "55946035c2    86562\n",
       "ac5b5e7eba    85659\n",
       "014dd64db3    85071\n",
       "7ebe99417b    84323\n",
       "f6e17b16fa    80821\n",
       "baaa89965e    77572\n",
       "79a778d605    75520\n",
       "cf296158e2    72574\n",
       "884ee1acd9    70439\n",
       "d2e36328ac    68993\n",
       "14210e75b9    65805\n",
       "a7c6147a87    65738\n",
       "83a8f5417b    58645\n",
       "8150bfd2f3    57994\n",
       "838fc20add    56998\n",
       "f8c2b6b457    54647\n",
       "5b5fdbdddf    54365\n",
       "d25503e02c    51346\n",
       "ca840c65e3    48778\n",
       "e3e4bd132d    47167\n",
       "e5c89ce6e3    45813\n",
       "24946c0715    45399\n",
       "28177f21a1    42059\n",
       "6b9930c84e    41874\n",
       "6c62cd5594    39681\n",
       "Name: user, dtype: int64"
      ]
     },
     "execution_count": 70,
     "metadata": {},
     "output_type": "execute_result"
    }
   ],
   "source": [
    "electricity_flow_df[\"user\"].value_counts()"
   ]
  },
  {
   "cell_type": "code",
   "execution_count": 71,
   "metadata": {},
   "outputs": [
    {
     "data": {
      "text/plain": [
       "30"
      ]
     },
     "execution_count": 71,
     "metadata": {},
     "output_type": "execute_result"
    }
   ],
   "source": [
    "electricity_flow_df[\"user\"].nunique()"
   ]
  },
  {
   "cell_type": "code",
   "execution_count": 72,
   "metadata": {},
   "outputs": [
    {
     "data": {
      "text/plain": [
       "electricity     0\n",
       "utc_datetime    0\n",
       "user            0\n",
       "dtype: int64"
      ]
     },
     "execution_count": 72,
     "metadata": {},
     "output_type": "execute_result"
    }
   ],
   "source": [
    "electricity_flow_df.isna().sum()"
   ]
  },
  {
   "cell_type": "code",
   "execution_count": 73,
   "metadata": {},
   "outputs": [
    {
     "data": {
      "text/plain": [
       "inside          0\n",
       "utc_datetime    0\n",
       "user            0\n",
       "dtype: int64"
      ]
     },
     "execution_count": 73,
     "metadata": {},
     "output_type": "execute_result"
    }
   ],
   "source": [
    "inside_temperature_df.isna().sum()"
   ]
  },
  {
   "cell_type": "code",
   "execution_count": 74,
   "metadata": {},
   "outputs": [
    {
     "data": {
      "text/html": [
       "<div>\n",
       "<style scoped>\n",
       "    .dataframe tbody tr th:only-of-type {\n",
       "        vertical-align: middle;\n",
       "    }\n",
       "\n",
       "    .dataframe tbody tr th {\n",
       "        vertical-align: top;\n",
       "    }\n",
       "\n",
       "    .dataframe thead th {\n",
       "        text-align: right;\n",
       "    }\n",
       "</style>\n",
       "<table border=\"1\" class=\"dataframe\">\n",
       "  <thead>\n",
       "    <tr style=\"text-align: right;\">\n",
       "      <th></th>\n",
       "      <th>electricity</th>\n",
       "      <th>utc_datetime</th>\n",
       "      <th>user</th>\n",
       "    </tr>\n",
       "  </thead>\n",
       "  <tbody>\n",
       "    <tr>\n",
       "      <th>0</th>\n",
       "      <td>901.0</td>\n",
       "      <td>2016-10-01 00:00:00</td>\n",
       "      <td>014dd64db3</td>\n",
       "    </tr>\n",
       "    <tr>\n",
       "      <th>1</th>\n",
       "      <td>1123.0</td>\n",
       "      <td>2016-10-01 00:01:00</td>\n",
       "      <td>014dd64db3</td>\n",
       "    </tr>\n",
       "    <tr>\n",
       "      <th>2</th>\n",
       "      <td>910.0</td>\n",
       "      <td>2016-10-01 00:02:00</td>\n",
       "      <td>014dd64db3</td>\n",
       "    </tr>\n",
       "    <tr>\n",
       "      <th>3</th>\n",
       "      <td>676.0</td>\n",
       "      <td>2016-10-01 00:03:00</td>\n",
       "      <td>014dd64db3</td>\n",
       "    </tr>\n",
       "    <tr>\n",
       "      <th>4</th>\n",
       "      <td>1115.0</td>\n",
       "      <td>2016-10-01 00:04:00</td>\n",
       "      <td>014dd64db3</td>\n",
       "    </tr>\n",
       "  </tbody>\n",
       "</table>\n",
       "</div>"
      ],
      "text/plain": [
       "   electricity        utc_datetime        user\n",
       "0        901.0 2016-10-01 00:00:00  014dd64db3\n",
       "1       1123.0 2016-10-01 00:01:00  014dd64db3\n",
       "2        910.0 2016-10-01 00:02:00  014dd64db3\n",
       "3        676.0 2016-10-01 00:03:00  014dd64db3\n",
       "4       1115.0 2016-10-01 00:04:00  014dd64db3"
      ]
     },
     "execution_count": 74,
     "metadata": {},
     "output_type": "execute_result"
    }
   ],
   "source": [
    "electricity_flow_df[\"utc_datetime\"] = pd.to_datetime(electricity_flow_df[\"utc_datetime\"])\n",
    "inside_temperature_df[\"utc_datetime\"] = pd.to_datetime(inside_temperature_df[\"utc_datetime\"])\n",
    "\n",
    "electricity_flow_df.head()"
   ]
  },
  {
   "cell_type": "code",
   "execution_count": 75,
   "metadata": {},
   "outputs": [
    {
     "data": {
      "text/html": [
       "<div>\n",
       "<style scoped>\n",
       "    .dataframe tbody tr th:only-of-type {\n",
       "        vertical-align: middle;\n",
       "    }\n",
       "\n",
       "    .dataframe tbody tr th {\n",
       "        vertical-align: top;\n",
       "    }\n",
       "\n",
       "    .dataframe thead th {\n",
       "        text-align: right;\n",
       "    }\n",
       "</style>\n",
       "<table border=\"1\" class=\"dataframe\">\n",
       "  <thead>\n",
       "    <tr style=\"text-align: right;\">\n",
       "      <th></th>\n",
       "      <th>inside</th>\n",
       "      <th>utc_datetime</th>\n",
       "      <th>user</th>\n",
       "    </tr>\n",
       "  </thead>\n",
       "  <tbody>\n",
       "    <tr>\n",
       "      <th>0</th>\n",
       "      <td>22.120001</td>\n",
       "      <td>2016-10-01 00:00:00</td>\n",
       "      <td>014dd64db3</td>\n",
       "    </tr>\n",
       "    <tr>\n",
       "      <th>1</th>\n",
       "      <td>22.120001</td>\n",
       "      <td>2016-10-01 00:01:00</td>\n",
       "      <td>014dd64db3</td>\n",
       "    </tr>\n",
       "    <tr>\n",
       "      <th>2</th>\n",
       "      <td>22.120001</td>\n",
       "      <td>2016-10-01 00:02:00</td>\n",
       "      <td>014dd64db3</td>\n",
       "    </tr>\n",
       "    <tr>\n",
       "      <th>3</th>\n",
       "      <td>22.120001</td>\n",
       "      <td>2016-10-01 00:03:00</td>\n",
       "      <td>014dd64db3</td>\n",
       "    </tr>\n",
       "    <tr>\n",
       "      <th>4</th>\n",
       "      <td>22.110001</td>\n",
       "      <td>2016-10-01 00:04:00</td>\n",
       "      <td>014dd64db3</td>\n",
       "    </tr>\n",
       "  </tbody>\n",
       "</table>\n",
       "</div>"
      ],
      "text/plain": [
       "      inside        utc_datetime        user\n",
       "0  22.120001 2016-10-01 00:00:00  014dd64db3\n",
       "1  22.120001 2016-10-01 00:01:00  014dd64db3\n",
       "2  22.120001 2016-10-01 00:02:00  014dd64db3\n",
       "3  22.120001 2016-10-01 00:03:00  014dd64db3\n",
       "4  22.110001 2016-10-01 00:04:00  014dd64db3"
      ]
     },
     "execution_count": 75,
     "metadata": {},
     "output_type": "execute_result"
    }
   ],
   "source": [
    "inside_temperature_df.head()"
   ]
  },
  {
   "cell_type": "markdown",
   "metadata": {},
   "source": [
    "### Create plots to understand the data"
   ]
  },
  {
   "cell_type": "code",
   "execution_count": 76,
   "metadata": {},
   "outputs": [],
   "source": [
    "#Order by user and time the two dataframes\n",
    "electricity_flow_df = electricity_flow_df.sort_values(by = [\"user\", \"utc_datetime\"])\n",
    "inside_temperature_df = inside_temperature_df.sort_values(by = [\"user\", \"utc_datetime\"])"
   ]
  },
  {
   "cell_type": "code",
   "execution_count": 77,
   "metadata": {},
   "outputs": [],
   "source": [
    "def plot_metric_over_hour(df, user, metric, time_start):\n",
    "    user_example = df[(df[\"user\"] == user) & (df[\"utc_datetime\"] >= time_start) & (df[\"utc_datetime\"] < time_start + dt.timedelta(hours=1))]\n",
    "\n",
    "    plt.plot(user_example[\"utc_datetime\"].dt.minute, user_example[metric])\n",
    "    plt.ylabel(metric)\n",
    "    plt.xlabel(\"minute\")\n",
    "    plt.title(f\"{metric} over hour {time_start}\")\n",
    "    plt.show()\n"
   ]
  },
  {
   "cell_type": "code",
   "execution_count": 78,
   "metadata": {},
   "outputs": [
    {
     "data": {
      "image/png": "[encoded data removed]",
      "text/plain": [
       "<Figure size 432x288 with 1 Axes>"
      ]
     },
     "metadata": {
      "needs_background": "light"
     },
     "output_type": "display_data"
    }
   ],
   "source": [
    "plot_metric_over_hour(inside_temperature_df, \"014dd64db3\", \"inside\", dt.datetime(2016, 10, 1, 0))"
   ]
  },
  {
   "cell_type": "code",
   "execution_count": 79,
   "metadata": {},
   "outputs": [
    {
     "data": {
      "image/png": "[encoded data removed]",
      "text/plain": [
       "<Figure size 432x288 with 1 Axes>"
      ]
     },
     "metadata": {
      "needs_background": "light"
     },
     "output_type": "display_data"
    }
   ],
   "source": [
    "plot_metric_over_hour(electricity_flow_df, \"014dd64db3\", \"electricity\", dt.datetime(2016, 10, 1, 0))"
   ]
  },
  {
   "cell_type": "code",
   "execution_count": 80,
   "metadata": {},
   "outputs": [
    {
     "data": {
      "text/html": [
       "<div>\n",
       "<style scoped>\n",
       "    .dataframe tbody tr th:only-of-type {\n",
       "        vertical-align: middle;\n",
       "    }\n",
       "\n",
       "    .dataframe tbody tr th {\n",
       "        vertical-align: top;\n",
       "    }\n",
       "\n",
       "    .dataframe thead th {\n",
       "        text-align: right;\n",
       "    }\n",
       "</style>\n",
       "<table border=\"1\" class=\"dataframe\">\n",
       "  <thead>\n",
       "    <tr style=\"text-align: right;\">\n",
       "      <th></th>\n",
       "      <th>inside</th>\n",
       "      <th>utc_datetime</th>\n",
       "      <th>user</th>\n",
       "    </tr>\n",
       "  </thead>\n",
       "  <tbody>\n",
       "    <tr>\n",
       "      <th>80420</th>\n",
       "      <td>17.920000</td>\n",
       "      <td>2016-11-30 13:00:00</td>\n",
       "      <td>014dd64db3</td>\n",
       "    </tr>\n",
       "    <tr>\n",
       "      <th>80421</th>\n",
       "      <td>17.910000</td>\n",
       "      <td>2016-11-30 13:01:00</td>\n",
       "      <td>014dd64db3</td>\n",
       "    </tr>\n",
       "    <tr>\n",
       "      <th>80422</th>\n",
       "      <td>17.900000</td>\n",
       "      <td>2016-11-30 13:02:00</td>\n",
       "      <td>014dd64db3</td>\n",
       "    </tr>\n",
       "    <tr>\n",
       "      <th>80423</th>\n",
       "      <td>17.889999</td>\n",
       "      <td>2016-11-30 13:03:00</td>\n",
       "      <td>014dd64db3</td>\n",
       "    </tr>\n",
       "    <tr>\n",
       "      <th>80424</th>\n",
       "      <td>17.889999</td>\n",
       "      <td>2016-11-30 13:04:00</td>\n",
       "      <td>014dd64db3</td>\n",
       "    </tr>\n",
       "    <tr>\n",
       "      <th>...</th>\n",
       "      <td>...</td>\n",
       "      <td>...</td>\n",
       "      <td>...</td>\n",
       "    </tr>\n",
       "    <tr>\n",
       "      <th>80510</th>\n",
       "      <td>17.850000</td>\n",
       "      <td>2016-11-30 14:39:00</td>\n",
       "      <td>014dd64db3</td>\n",
       "    </tr>\n",
       "    <tr>\n",
       "      <th>80511</th>\n",
       "      <td>17.870001</td>\n",
       "      <td>2016-11-30 14:40:00</td>\n",
       "      <td>014dd64db3</td>\n",
       "    </tr>\n",
       "    <tr>\n",
       "      <th>80512</th>\n",
       "      <td>17.900000</td>\n",
       "      <td>2016-11-30 14:41:00</td>\n",
       "      <td>014dd64db3</td>\n",
       "    </tr>\n",
       "    <tr>\n",
       "      <th>80513</th>\n",
       "      <td>17.930000</td>\n",
       "      <td>2016-11-30 14:42:00</td>\n",
       "      <td>014dd64db3</td>\n",
       "    </tr>\n",
       "    <tr>\n",
       "      <th>80514</th>\n",
       "      <td>17.969999</td>\n",
       "      <td>2016-11-30 14:43:00</td>\n",
       "      <td>014dd64db3</td>\n",
       "    </tr>\n",
       "  </tbody>\n",
       "</table>\n",
       "<p>93 rows × 3 columns</p>\n",
       "</div>"
      ],
      "text/plain": [
       "          inside        utc_datetime        user\n",
       "80420  17.920000 2016-11-30 13:00:00  014dd64db3\n",
       "80421  17.910000 2016-11-30 13:01:00  014dd64db3\n",
       "80422  17.900000 2016-11-30 13:02:00  014dd64db3\n",
       "80423  17.889999 2016-11-30 13:03:00  014dd64db3\n",
       "80424  17.889999 2016-11-30 13:04:00  014dd64db3\n",
       "...          ...                 ...         ...\n",
       "80510  17.850000 2016-11-30 14:39:00  014dd64db3\n",
       "80511  17.870001 2016-11-30 14:40:00  014dd64db3\n",
       "80512  17.900000 2016-11-30 14:41:00  014dd64db3\n",
       "80513  17.930000 2016-11-30 14:42:00  014dd64db3\n",
       "80514  17.969999 2016-11-30 14:43:00  014dd64db3\n",
       "\n",
       "[93 rows x 3 columns]"
      ]
     },
     "execution_count": 80,
     "metadata": {},
     "output_type": "execute_result"
    }
   ],
   "source": [
    "inside_temperature_df[(inside_temperature_df[\"user\"] == \"014dd64db3\")  & (inside_temperature_df[\"inside\"] <= 18) & (inside_temperature_df[\"utc_datetime\"] >= dt.datetime(2016, 11, 30, 13)) & (inside_temperature_df[\"utc_datetime\"] < dt.datetime(2016, 11, 30, 15))]"
   ]
  },
  {
   "cell_type": "code",
   "execution_count": 81,
   "metadata": {},
   "outputs": [],
   "source": [
    "def plot_metric_over_interval(df, user, metric, time_start, time_end):\n",
    "    user_example = df[(df[\"user\"] == user) & (df[\"utc_datetime\"] >= time_start) & (df[\"utc_datetime\"] < time_end)]\n",
    "\n",
    "    plt.plot(user_example[\"utc_datetime\"], user_example[metric])\n",
    "    plt.ylabel(metric)\n",
    "    plt.xlabel(\"minute\")\n",
    "    plt.title(f\"{metric} from {time_start} to {time_end}\")\n",
    "    plt.show()"
   ]
  },
  {
   "cell_type": "code",
   "execution_count": 82,
   "metadata": {},
   "outputs": [
    {
     "data": {
      "image/png": "[encoded data removed]",
      "text/plain": [
       "<Figure size 432x288 with 1 Axes>"
      ]
     },
     "metadata": {
      "needs_background": "light"
     },
     "output_type": "display_data"
    }
   ],
   "source": [
    "plot_metric_over_interval(inside_temperature_df, \"014dd64db3\", \"inside\", dt.datetime(2016, 11, 30, 13), dt.datetime(2016, 11, 30, 15))"
   ]
  },
  {
   "cell_type": "code",
   "execution_count": 83,
   "metadata": {},
   "outputs": [
    {
     "data": {
      "image/png": "[encoded data removed]",
      "text/plain": [
       "<Figure size 432x288 with 1 Axes>"
      ]
     },
     "metadata": {
      "needs_background": "light"
     },
     "output_type": "display_data"
    }
   ],
   "source": [
    "plot_metric_over_interval(electricity_flow_df, \"014dd64db3\", \"electricity\", dt.datetime(2016, 11, 30, 13), dt.datetime(2016, 11, 30, 15))"
   ]
  },
  {
   "cell_type": "markdown",
   "metadata": {},
   "source": [
    "### Handle outliers with interpolation"
   ]
  },
  {
   "cell_type": "code",
   "execution_count": 84,
   "metadata": {},
   "outputs": [
    {
     "data": {
      "text/plain": [
       "41731"
      ]
     },
     "execution_count": 84,
     "metadata": {},
     "output_type": "execute_result"
    }
   ],
   "source": [
    "inside_temperature_df[inside_temperature_df[\"inside\"] >= 27][\"inside\"].count()"
   ]
  },
  {
   "cell_type": "code",
   "execution_count": 85,
   "metadata": {},
   "outputs": [],
   "source": [
    "#bad_idx = inside_temperature_df.index[inside_temperature_df['inside'].pct_change().abs().ge(0.3)]\n",
    "bad_idx = inside_temperature_df.index[inside_temperature_df['inside'] >= 27]"
   ]
  },
  {
   "cell_type": "code",
   "execution_count": 86,
   "metadata": {},
   "outputs": [
    {
     "data": {
      "text/plain": [
       "Int64Index([     39,      84,     131,     183,     226,     274,     328,\n",
       "                388,     441,     501,\n",
       "            ...\n",
       "            2495011, 2495070, 2495128, 2495188, 2495248, 2495308, 2495368,\n",
       "            2495427, 2495484, 2495544],\n",
       "           dtype='int64', length=41731)"
      ]
     },
     "execution_count": 86,
     "metadata": {},
     "output_type": "execute_result"
    }
   ],
   "source": [
    "bad_idx"
   ]
  },
  {
   "cell_type": "code",
   "execution_count": 87,
   "metadata": {},
   "outputs": [
    {
     "data": {
      "text/plain": [
       "Int64Index([    389,     390,     436,     479,     507,     508,     509,\n",
       "                516,     517,     518,\n",
       "            ...\n",
       "            1999242, 1999243, 1999244, 1999246, 1999247, 1999248, 1999249,\n",
       "            1999250, 1999252, 1999253],\n",
       "           dtype='int64', length=193534)"
      ]
     },
     "execution_count": 87,
     "metadata": {},
     "output_type": "execute_result"
    }
   ],
   "source": [
    "outlier_idx = electricity_flow_df.index[electricity_flow_df['electricity'] >= 6000]\n",
    "outlier_idx"
   ]
  },
  {
   "cell_type": "code",
   "execution_count": 88,
   "metadata": {},
   "outputs": [],
   "source": [
    "def remove_outliers(df, col, threshold):\n",
    "    outlier_idx = df.index[df[col] >= threshold]\n",
    "    df.loc[outlier_idx, col] = np.nan\n",
    "    df[col] = df[col].interpolate()\n",
    "    return df"
   ]
  },
  {
   "cell_type": "code",
   "execution_count": 89,
   "metadata": {},
   "outputs": [],
   "source": [
    "electricity_cutoff_threshold = 6000\n",
    "temperature_cutoff_threshold = 27\n",
    "electricity_flow_df = remove_outliers(electricity_flow_df, \"electricity\", electricity_cutoff_threshold)\n",
    "inside_temperature_df = remove_outliers(inside_temperature_df, \"inside\", temperature_cutoff_threshold)"
   ]
  },
  {
   "cell_type": "code",
   "execution_count": 90,
   "metadata": {},
   "outputs": [
    {
     "data": {
      "image/png": "[encoded data removed]",
      "text/plain": [
       "<Figure size 432x288 with 1 Axes>"
      ]
     },
     "metadata": {
      "needs_background": "light"
     },
     "output_type": "display_data"
    }
   ],
   "source": [
    "#Repeat inside temperature plot after removing outliers\n",
    "plot_metric_over_interval(inside_temperature_df, \"014dd64db3\", \"inside\", dt.datetime(2016, 11, 30, 13), dt.datetime(2016, 11, 30, 15))"
   ]
  },
  {
   "cell_type": "markdown",
   "metadata": {},
   "source": [
    "### Join and process dataframes"
   ]
  },
  {
   "cell_type": "code",
   "execution_count": 91,
   "metadata": {},
   "outputs": [],
   "source": [
    "customer_df = inside_temperature_df.merge(electricity_flow_df, how = \"left\", on = [\"user\", \"utc_datetime\"])"
   ]
  },
  {
   "cell_type": "code",
   "execution_count": 92,
   "metadata": {},
   "outputs": [
    {
     "data": {
      "text/html": [
       "<div>\n",
       "<style scoped>\n",
       "    .dataframe tbody tr th:only-of-type {\n",
       "        vertical-align: middle;\n",
       "    }\n",
       "\n",
       "    .dataframe tbody tr th {\n",
       "        vertical-align: top;\n",
       "    }\n",
       "\n",
       "    .dataframe thead th {\n",
       "        text-align: right;\n",
       "    }\n",
       "</style>\n",
       "<table border=\"1\" class=\"dataframe\">\n",
       "  <thead>\n",
       "    <tr style=\"text-align: right;\">\n",
       "      <th></th>\n",
       "      <th>inside</th>\n",
       "      <th>utc_datetime</th>\n",
       "      <th>user</th>\n",
       "      <th>electricity</th>\n",
       "    </tr>\n",
       "  </thead>\n",
       "  <tbody>\n",
       "    <tr>\n",
       "      <th>0</th>\n",
       "      <td>22.120001</td>\n",
       "      <td>2016-10-01 00:00:00</td>\n",
       "      <td>014dd64db3</td>\n",
       "      <td>901.0</td>\n",
       "    </tr>\n",
       "    <tr>\n",
       "      <th>1</th>\n",
       "      <td>22.120001</td>\n",
       "      <td>2016-10-01 00:01:00</td>\n",
       "      <td>014dd64db3</td>\n",
       "      <td>1123.0</td>\n",
       "    </tr>\n",
       "    <tr>\n",
       "      <th>2</th>\n",
       "      <td>22.120001</td>\n",
       "      <td>2016-10-01 00:02:00</td>\n",
       "      <td>014dd64db3</td>\n",
       "      <td>910.0</td>\n",
       "    </tr>\n",
       "    <tr>\n",
       "      <th>3</th>\n",
       "      <td>22.120001</td>\n",
       "      <td>2016-10-01 00:03:00</td>\n",
       "      <td>014dd64db3</td>\n",
       "      <td>676.0</td>\n",
       "    </tr>\n",
       "    <tr>\n",
       "      <th>4</th>\n",
       "      <td>22.110001</td>\n",
       "      <td>2016-10-01 00:04:00</td>\n",
       "      <td>014dd64db3</td>\n",
       "      <td>1115.0</td>\n",
       "    </tr>\n",
       "  </tbody>\n",
       "</table>\n",
       "</div>"
      ],
      "text/plain": [
       "      inside        utc_datetime        user  electricity\n",
       "0  22.120001 2016-10-01 00:00:00  014dd64db3        901.0\n",
       "1  22.120001 2016-10-01 00:01:00  014dd64db3       1123.0\n",
       "2  22.120001 2016-10-01 00:02:00  014dd64db3        910.0\n",
       "3  22.120001 2016-10-01 00:03:00  014dd64db3        676.0\n",
       "4  22.110001 2016-10-01 00:04:00  014dd64db3       1115.0"
      ]
     },
     "execution_count": 92,
     "metadata": {},
     "output_type": "execute_result"
    }
   ],
   "source": [
    "customer_df.head()"
   ]
  },
  {
   "cell_type": "code",
   "execution_count": 93,
   "metadata": {},
   "outputs": [
    {
     "data": {
      "text/plain": [
       "inside               0\n",
       "utc_datetime         0\n",
       "user                 0\n",
       "electricity     589143\n",
       "dtype: int64"
      ]
     },
     "execution_count": 93,
     "metadata": {},
     "output_type": "execute_result"
    }
   ],
   "source": [
    "customer_df.isna().sum()"
   ]
  },
  {
   "cell_type": "code",
   "execution_count": 94,
   "metadata": {},
   "outputs": [
    {
     "data": {
      "text/plain": [
       "inside          0.000000\n",
       "utc_datetime    0.000000\n",
       "user            0.000000\n",
       "electricity     0.059019\n",
       "dtype: float64"
      ]
     },
     "execution_count": 94,
     "metadata": {},
     "output_type": "execute_result"
    }
   ],
   "source": [
    "customer_df.isna().sum() /customer_df.size"
   ]
  },
  {
   "cell_type": "code",
   "execution_count": 95,
   "metadata": {},
   "outputs": [
    {
     "name": "stdout",
     "output_type": "stream",
     "text": [
      "inside          0\n",
      "utc_datetime    0\n",
      "user            0\n",
      "electricity     0\n",
      "dtype: int64\n"
     ]
    }
   ],
   "source": [
    "#Interpolate nulls on electricity after merge\n",
    "customer_df[\"electricity\"] = customer_df[\"electricity\"].interpolate()\n",
    "print(customer_df.isna().sum())"
   ]
  },
  {
   "cell_type": "code",
   "execution_count": 96,
   "metadata": {},
   "outputs": [
    {
     "data": {
      "text/plain": [
       "30"
      ]
     },
     "execution_count": 96,
     "metadata": {},
     "output_type": "execute_result"
    }
   ],
   "source": [
    "customer_df[\"user\"].nunique()"
   ]
  },
  {
   "cell_type": "code",
   "execution_count": 97,
   "metadata": {},
   "outputs": [
    {
     "data": {
      "text/plain": [
       "7ebe99417b    86024\n",
       "d25503e02c    85250\n",
       "83a8f5417b    85007\n",
       "884ee1acd9    84695\n",
       "14210e75b9    84602\n",
       "bb1130540f    84367\n",
       "7a01185704    84313\n",
       "43b58e1a39    84169\n",
       "098405cc91    84109\n",
       "5b5fdbdddf    83945\n",
       "a7c6147a87    83928\n",
       "28177f21a1    83917\n",
       "24946c0715    83838\n",
       "e3e4bd132d    83707\n",
       "8150bfd2f3    83573\n",
       "d2e36328ac    82985\n",
       "f8c2b6b457    82984\n",
       "6c62cd5594    82794\n",
       "838fc20add    82586\n",
       "e49772f37c    82549\n",
       "e5c89ce6e3    82457\n",
       "ac5b5e7eba    82426\n",
       "6b9930c84e    82224\n",
       "ca840c65e3    81865\n",
       "f6e17b16fa    81822\n",
       "baaa89965e    81777\n",
       "cf296158e2    81708\n",
       "55946035c2    81583\n",
       "014dd64db3    81066\n",
       "79a778d605    79282\n",
       "Name: user, dtype: int64"
      ]
     },
     "execution_count": 97,
     "metadata": {},
     "output_type": "execute_result"
    }
   ],
   "source": [
    "customer_df[\"user\"].value_counts()"
   ]
  },
  {
   "cell_type": "code",
   "execution_count": 98,
   "metadata": {},
   "outputs": [
    {
     "data": {
      "text/html": [
       "<div>\n",
       "<style scoped>\n",
       "    .dataframe tbody tr th:only-of-type {\n",
       "        vertical-align: middle;\n",
       "    }\n",
       "\n",
       "    .dataframe tbody tr th {\n",
       "        vertical-align: top;\n",
       "    }\n",
       "\n",
       "    .dataframe thead tr th {\n",
       "        text-align: left;\n",
       "    }\n",
       "\n",
       "    .dataframe thead tr:last-of-type th {\n",
       "        text-align: right;\n",
       "    }\n",
       "</style>\n",
       "<table border=\"1\" class=\"dataframe\">\n",
       "  <thead>\n",
       "    <tr>\n",
       "      <th></th>\n",
       "      <th></th>\n",
       "      <th colspan=\"2\" halign=\"left\">inside</th>\n",
       "      <th colspan=\"2\" halign=\"left\">electricity</th>\n",
       "    </tr>\n",
       "    <tr>\n",
       "      <th></th>\n",
       "      <th></th>\n",
       "      <th>mean</th>\n",
       "      <th>median</th>\n",
       "      <th>mean</th>\n",
       "      <th>median</th>\n",
       "    </tr>\n",
       "    <tr>\n",
       "      <th>user</th>\n",
       "      <th>utc_datetime</th>\n",
       "      <th></th>\n",
       "      <th></th>\n",
       "      <th></th>\n",
       "      <th></th>\n",
       "    </tr>\n",
       "  </thead>\n",
       "  <tbody>\n",
       "    <tr>\n",
       "      <th rowspan=\"5\" valign=\"top\">014dd64db3</th>\n",
       "      <th>0</th>\n",
       "      <td>20.485675</td>\n",
       "      <td>20.670000</td>\n",
       "      <td>945.892684</td>\n",
       "      <td>861.000000</td>\n",
       "    </tr>\n",
       "    <tr>\n",
       "      <th>1</th>\n",
       "      <td>20.240489</td>\n",
       "      <td>20.379999</td>\n",
       "      <td>891.654106</td>\n",
       "      <td>844.000000</td>\n",
       "    </tr>\n",
       "    <tr>\n",
       "      <th>2</th>\n",
       "      <td>20.041368</td>\n",
       "      <td>20.170000</td>\n",
       "      <td>899.777396</td>\n",
       "      <td>847.000000</td>\n",
       "    </tr>\n",
       "    <tr>\n",
       "      <th>3</th>\n",
       "      <td>19.857377</td>\n",
       "      <td>20.000000</td>\n",
       "      <td>920.584387</td>\n",
       "      <td>845.000000</td>\n",
       "    </tr>\n",
       "    <tr>\n",
       "      <th>4</th>\n",
       "      <td>19.718935</td>\n",
       "      <td>19.850000</td>\n",
       "      <td>896.865556</td>\n",
       "      <td>833.500000</td>\n",
       "    </tr>\n",
       "    <tr>\n",
       "      <th>...</th>\n",
       "      <th>...</th>\n",
       "      <td>...</td>\n",
       "      <td>...</td>\n",
       "      <td>...</td>\n",
       "      <td>...</td>\n",
       "    </tr>\n",
       "    <tr>\n",
       "      <th rowspan=\"5\" valign=\"top\">f8c2b6b457</th>\n",
       "      <th>19</th>\n",
       "      <td>20.909917</td>\n",
       "      <td>21.000000</td>\n",
       "      <td>1609.938028</td>\n",
       "      <td>1342.666667</td>\n",
       "    </tr>\n",
       "    <tr>\n",
       "      <th>20</th>\n",
       "      <td>20.771957</td>\n",
       "      <td>20.840000</td>\n",
       "      <td>1385.632804</td>\n",
       "      <td>1090.000000</td>\n",
       "    </tr>\n",
       "    <tr>\n",
       "      <th>21</th>\n",
       "      <td>20.536996</td>\n",
       "      <td>20.600000</td>\n",
       "      <td>1373.006017</td>\n",
       "      <td>950.000000</td>\n",
       "    </tr>\n",
       "    <tr>\n",
       "      <th>22</th>\n",
       "      <td>20.287817</td>\n",
       "      <td>20.320000</td>\n",
       "      <td>1009.310678</td>\n",
       "      <td>646.571429</td>\n",
       "    </tr>\n",
       "    <tr>\n",
       "      <th>23</th>\n",
       "      <td>20.085194</td>\n",
       "      <td>20.139999</td>\n",
       "      <td>720.018867</td>\n",
       "      <td>470.000000</td>\n",
       "    </tr>\n",
       "  </tbody>\n",
       "</table>\n",
       "<p>720 rows × 4 columns</p>\n",
       "</div>"
      ],
      "text/plain": [
       "                            inside             electricity             \n",
       "                              mean     median         mean       median\n",
       "user       utc_datetime                                                \n",
       "014dd64db3 0             20.485675  20.670000   945.892684   861.000000\n",
       "           1             20.240489  20.379999   891.654106   844.000000\n",
       "           2             20.041368  20.170000   899.777396   847.000000\n",
       "           3             19.857377  20.000000   920.584387   845.000000\n",
       "           4             19.718935  19.850000   896.865556   833.500000\n",
       "...                            ...        ...          ...          ...\n",
       "f8c2b6b457 19            20.909917  21.000000  1609.938028  1342.666667\n",
       "           20            20.771957  20.840000  1385.632804  1090.000000\n",
       "           21            20.536996  20.600000  1373.006017   950.000000\n",
       "           22            20.287817  20.320000  1009.310678   646.571429\n",
       "           23            20.085194  20.139999   720.018867   470.000000\n",
       "\n",
       "[720 rows x 4 columns]"
      ]
     },
     "execution_count": 98,
     "metadata": {},
     "output_type": "execute_result"
    }
   ],
   "source": [
    "times = pd.DatetimeIndex(customer_df.utc_datetime)\n",
    "\n",
    "customer_df.groupby(by = [\"user\", times.hour]).agg({\"inside\": [\"mean\", \"median\"],\n",
    "                                                    \"electricity\": [\"mean\", \"median\"]})\n"
   ]
  },
  {
   "cell_type": "code",
   "execution_count": 99,
   "metadata": {},
   "outputs": [],
   "source": [
    "quantiles_df = customer_df.groupby(by = [\"user\", times.hour]).quantile(np.linspace(0,1,21)).reset_index() #.drop(\"utc_datetime\", axis = 1)"
   ]
  },
  {
   "cell_type": "code",
   "execution_count": 100,
   "metadata": {},
   "outputs": [
    {
     "data": {
      "text/html": [
       "<div>\n",
       "<style scoped>\n",
       "    .dataframe tbody tr th:only-of-type {\n",
       "        vertical-align: middle;\n",
       "    }\n",
       "\n",
       "    .dataframe tbody tr th {\n",
       "        vertical-align: top;\n",
       "    }\n",
       "\n",
       "    .dataframe thead th {\n",
       "        text-align: right;\n",
       "    }\n",
       "</style>\n",
       "<table border=\"1\" class=\"dataframe\">\n",
       "  <thead>\n",
       "    <tr style=\"text-align: right;\">\n",
       "      <th></th>\n",
       "      <th>user</th>\n",
       "      <th>utc_datetime</th>\n",
       "      <th>level_2</th>\n",
       "      <th>inside</th>\n",
       "      <th>electricity</th>\n",
       "    </tr>\n",
       "  </thead>\n",
       "  <tbody>\n",
       "    <tr>\n",
       "      <th>0</th>\n",
       "      <td>014dd64db3</td>\n",
       "      <td>0</td>\n",
       "      <td>0.00</td>\n",
       "      <td>17.910000</td>\n",
       "      <td>126.00</td>\n",
       "    </tr>\n",
       "    <tr>\n",
       "      <th>1</th>\n",
       "      <td>014dd64db3</td>\n",
       "      <td>0</td>\n",
       "      <td>0.05</td>\n",
       "      <td>18.700001</td>\n",
       "      <td>388.20</td>\n",
       "    </tr>\n",
       "    <tr>\n",
       "      <th>2</th>\n",
       "      <td>014dd64db3</td>\n",
       "      <td>0</td>\n",
       "      <td>0.10</td>\n",
       "      <td>19.209999</td>\n",
       "      <td>427.00</td>\n",
       "    </tr>\n",
       "    <tr>\n",
       "      <th>3</th>\n",
       "      <td>014dd64db3</td>\n",
       "      <td>0</td>\n",
       "      <td>0.15</td>\n",
       "      <td>19.400000</td>\n",
       "      <td>522.60</td>\n",
       "    </tr>\n",
       "    <tr>\n",
       "      <th>4</th>\n",
       "      <td>014dd64db3</td>\n",
       "      <td>0</td>\n",
       "      <td>0.20</td>\n",
       "      <td>19.670000</td>\n",
       "      <td>558.00</td>\n",
       "    </tr>\n",
       "    <tr>\n",
       "      <th>...</th>\n",
       "      <td>...</td>\n",
       "      <td>...</td>\n",
       "      <td>...</td>\n",
       "      <td>...</td>\n",
       "      <td>...</td>\n",
       "    </tr>\n",
       "    <tr>\n",
       "      <th>15115</th>\n",
       "      <td>f8c2b6b457</td>\n",
       "      <td>23</td>\n",
       "      <td>0.80</td>\n",
       "      <td>20.600000</td>\n",
       "      <td>849.75</td>\n",
       "    </tr>\n",
       "    <tr>\n",
       "      <th>15116</th>\n",
       "      <td>f8c2b6b457</td>\n",
       "      <td>23</td>\n",
       "      <td>0.85</td>\n",
       "      <td>20.650000</td>\n",
       "      <td>970.40</td>\n",
       "    </tr>\n",
       "    <tr>\n",
       "      <th>15117</th>\n",
       "      <td>f8c2b6b457</td>\n",
       "      <td>23</td>\n",
       "      <td>0.90</td>\n",
       "      <td>20.774001</td>\n",
       "      <td>1190.00</td>\n",
       "    </tr>\n",
       "    <tr>\n",
       "      <th>15118</th>\n",
       "      <td>f8c2b6b457</td>\n",
       "      <td>23</td>\n",
       "      <td>0.95</td>\n",
       "      <td>20.980000</td>\n",
       "      <td>2170.00</td>\n",
       "    </tr>\n",
       "    <tr>\n",
       "      <th>15119</th>\n",
       "      <td>f8c2b6b457</td>\n",
       "      <td>23</td>\n",
       "      <td>1.00</td>\n",
       "      <td>21.709999</td>\n",
       "      <td>5980.00</td>\n",
       "    </tr>\n",
       "  </tbody>\n",
       "</table>\n",
       "<p>15120 rows × 5 columns</p>\n",
       "</div>"
      ],
      "text/plain": [
       "             user  utc_datetime  level_2     inside  electricity\n",
       "0      014dd64db3             0     0.00  17.910000       126.00\n",
       "1      014dd64db3             0     0.05  18.700001       388.20\n",
       "2      014dd64db3             0     0.10  19.209999       427.00\n",
       "3      014dd64db3             0     0.15  19.400000       522.60\n",
       "4      014dd64db3             0     0.20  19.670000       558.00\n",
       "...           ...           ...      ...        ...          ...\n",
       "15115  f8c2b6b457            23     0.80  20.600000       849.75\n",
       "15116  f8c2b6b457            23     0.85  20.650000       970.40\n",
       "15117  f8c2b6b457            23     0.90  20.774001      1190.00\n",
       "15118  f8c2b6b457            23     0.95  20.980000      2170.00\n",
       "15119  f8c2b6b457            23     1.00  21.709999      5980.00\n",
       "\n",
       "[15120 rows x 5 columns]"
      ]
     },
     "execution_count": 100,
     "metadata": {},
     "output_type": "execute_result"
    }
   ],
   "source": [
    "quantiles_df"
   ]
  },
  {
   "cell_type": "code",
   "execution_count": 101,
   "metadata": {},
   "outputs": [],
   "source": [
    "def add_year_month_day(df, time_col):\n",
    "    df[\"year\"] = df[time_col].dt.year\n",
    "    df[\"month\"] = df[time_col].dt.month\n",
    "    df[\"day\"] = df[time_col].dt.day\n",
    "    df[\"hour\"] = df[time_col].dt.hour\n",
    "    return df"
   ]
  },
  {
   "cell_type": "code",
   "execution_count": 102,
   "metadata": {},
   "outputs": [
    {
     "data": {
      "text/html": [
       "<div>\n",
       "<style scoped>\n",
       "    .dataframe tbody tr th:only-of-type {\n",
       "        vertical-align: middle;\n",
       "    }\n",
       "\n",
       "    .dataframe tbody tr th {\n",
       "        vertical-align: top;\n",
       "    }\n",
       "\n",
       "    .dataframe thead th {\n",
       "        text-align: right;\n",
       "    }\n",
       "</style>\n",
       "<table border=\"1\" class=\"dataframe\">\n",
       "  <thead>\n",
       "    <tr style=\"text-align: right;\">\n",
       "      <th></th>\n",
       "      <th>inside</th>\n",
       "      <th>utc_datetime</th>\n",
       "      <th>user</th>\n",
       "      <th>electricity</th>\n",
       "      <th>year</th>\n",
       "      <th>month</th>\n",
       "      <th>day</th>\n",
       "      <th>hour</th>\n",
       "    </tr>\n",
       "  </thead>\n",
       "  <tbody>\n",
       "    <tr>\n",
       "      <th>0</th>\n",
       "      <td>22.120001</td>\n",
       "      <td>2016-10-01 00:00:00</td>\n",
       "      <td>014dd64db3</td>\n",
       "      <td>901.0</td>\n",
       "      <td>2016</td>\n",
       "      <td>10</td>\n",
       "      <td>1</td>\n",
       "      <td>0</td>\n",
       "    </tr>\n",
       "    <tr>\n",
       "      <th>1</th>\n",
       "      <td>22.120001</td>\n",
       "      <td>2016-10-01 00:01:00</td>\n",
       "      <td>014dd64db3</td>\n",
       "      <td>1123.0</td>\n",
       "      <td>2016</td>\n",
       "      <td>10</td>\n",
       "      <td>1</td>\n",
       "      <td>0</td>\n",
       "    </tr>\n",
       "    <tr>\n",
       "      <th>2</th>\n",
       "      <td>22.120001</td>\n",
       "      <td>2016-10-01 00:02:00</td>\n",
       "      <td>014dd64db3</td>\n",
       "      <td>910.0</td>\n",
       "      <td>2016</td>\n",
       "      <td>10</td>\n",
       "      <td>1</td>\n",
       "      <td>0</td>\n",
       "    </tr>\n",
       "    <tr>\n",
       "      <th>3</th>\n",
       "      <td>22.120001</td>\n",
       "      <td>2016-10-01 00:03:00</td>\n",
       "      <td>014dd64db3</td>\n",
       "      <td>676.0</td>\n",
       "      <td>2016</td>\n",
       "      <td>10</td>\n",
       "      <td>1</td>\n",
       "      <td>0</td>\n",
       "    </tr>\n",
       "    <tr>\n",
       "      <th>4</th>\n",
       "      <td>22.110001</td>\n",
       "      <td>2016-10-01 00:04:00</td>\n",
       "      <td>014dd64db3</td>\n",
       "      <td>1115.0</td>\n",
       "      <td>2016</td>\n",
       "      <td>10</td>\n",
       "      <td>1</td>\n",
       "      <td>0</td>\n",
       "    </tr>\n",
       "  </tbody>\n",
       "</table>\n",
       "</div>"
      ],
      "text/plain": [
       "      inside        utc_datetime        user  electricity  year  month  day  \\\n",
       "0  22.120001 2016-10-01 00:00:00  014dd64db3        901.0  2016     10    1   \n",
       "1  22.120001 2016-10-01 00:01:00  014dd64db3       1123.0  2016     10    1   \n",
       "2  22.120001 2016-10-01 00:02:00  014dd64db3        910.0  2016     10    1   \n",
       "3  22.120001 2016-10-01 00:03:00  014dd64db3        676.0  2016     10    1   \n",
       "4  22.110001 2016-10-01 00:04:00  014dd64db3       1115.0  2016     10    1   \n",
       "\n",
       "   hour  \n",
       "0     0  \n",
       "1     0  \n",
       "2     0  \n",
       "3     0  \n",
       "4     0  "
      ]
     },
     "execution_count": 102,
     "metadata": {},
     "output_type": "execute_result"
    }
   ],
   "source": [
    "customer_df = add_year_month_day(customer_df, \"utc_datetime\")\n",
    "customer_df.head()"
   ]
  },
  {
   "cell_type": "code",
   "execution_count": 103,
   "metadata": {},
   "outputs": [],
   "source": [
    "resampled_df = customer_df.groupby(by = [\"user\", \"month\", \"day\", \"hour\"]).agg({\"inside\": \"mean\",\n",
    "                                                    \"electricity\": \"mean\"}).reset_index()"
   ]
  },
  {
   "cell_type": "code",
   "execution_count": 104,
   "metadata": {},
   "outputs": [
    {
     "data": {
      "text/html": [
       "<div>\n",
       "<style scoped>\n",
       "    .dataframe tbody tr th:only-of-type {\n",
       "        vertical-align: middle;\n",
       "    }\n",
       "\n",
       "    .dataframe tbody tr th {\n",
       "        vertical-align: top;\n",
       "    }\n",
       "\n",
       "    .dataframe thead th {\n",
       "        text-align: right;\n",
       "    }\n",
       "</style>\n",
       "<table border=\"1\" class=\"dataframe\">\n",
       "  <thead>\n",
       "    <tr style=\"text-align: right;\">\n",
       "      <th></th>\n",
       "      <th>user</th>\n",
       "      <th>month</th>\n",
       "      <th>day</th>\n",
       "      <th>hour</th>\n",
       "      <th>inside</th>\n",
       "      <th>electricity</th>\n",
       "      <th>part_of_day</th>\n",
       "    </tr>\n",
       "  </thead>\n",
       "  <tbody>\n",
       "    <tr>\n",
       "      <th>0</th>\n",
       "      <td>014dd64db3</td>\n",
       "      <td>10</td>\n",
       "      <td>1</td>\n",
       "      <td>0</td>\n",
       "      <td>22.059904</td>\n",
       "      <td>916.000000</td>\n",
       "      <td>0</td>\n",
       "    </tr>\n",
       "    <tr>\n",
       "      <th>1</th>\n",
       "      <td>014dd64db3</td>\n",
       "      <td>10</td>\n",
       "      <td>1</td>\n",
       "      <td>1</td>\n",
       "      <td>21.945667</td>\n",
       "      <td>876.022222</td>\n",
       "      <td>0</td>\n",
       "    </tr>\n",
       "    <tr>\n",
       "      <th>2</th>\n",
       "      <td>014dd64db3</td>\n",
       "      <td>10</td>\n",
       "      <td>1</td>\n",
       "      <td>2</td>\n",
       "      <td>21.853511</td>\n",
       "      <td>826.978723</td>\n",
       "      <td>0</td>\n",
       "    </tr>\n",
       "    <tr>\n",
       "      <th>3</th>\n",
       "      <td>014dd64db3</td>\n",
       "      <td>10</td>\n",
       "      <td>1</td>\n",
       "      <td>3</td>\n",
       "      <td>21.767925</td>\n",
       "      <td>877.660377</td>\n",
       "      <td>0</td>\n",
       "    </tr>\n",
       "    <tr>\n",
       "      <th>4</th>\n",
       "      <td>014dd64db3</td>\n",
       "      <td>10</td>\n",
       "      <td>1</td>\n",
       "      <td>4</td>\n",
       "      <td>21.729500</td>\n",
       "      <td>1043.550000</td>\n",
       "      <td>0</td>\n",
       "    </tr>\n",
       "    <tr>\n",
       "      <th>...</th>\n",
       "      <td>...</td>\n",
       "      <td>...</td>\n",
       "      <td>...</td>\n",
       "      <td>...</td>\n",
       "      <td>...</td>\n",
       "      <td>...</td>\n",
       "      <td>...</td>\n",
       "    </tr>\n",
       "    <tr>\n",
       "      <th>43872</th>\n",
       "      <td>f8c2b6b457</td>\n",
       "      <td>11</td>\n",
       "      <td>30</td>\n",
       "      <td>19</td>\n",
       "      <td>21.336167</td>\n",
       "      <td>1101.416667</td>\n",
       "      <td>3</td>\n",
       "    </tr>\n",
       "    <tr>\n",
       "      <th>43873</th>\n",
       "      <td>f8c2b6b457</td>\n",
       "      <td>11</td>\n",
       "      <td>30</td>\n",
       "      <td>20</td>\n",
       "      <td>21.326271</td>\n",
       "      <td>782.627119</td>\n",
       "      <td>3</td>\n",
       "    </tr>\n",
       "    <tr>\n",
       "      <th>43874</th>\n",
       "      <td>f8c2b6b457</td>\n",
       "      <td>11</td>\n",
       "      <td>30</td>\n",
       "      <td>21</td>\n",
       "      <td>20.712583</td>\n",
       "      <td>649.750000</td>\n",
       "      <td>3</td>\n",
       "    </tr>\n",
       "    <tr>\n",
       "      <th>43875</th>\n",
       "      <td>f8c2b6b457</td>\n",
       "      <td>11</td>\n",
       "      <td>30</td>\n",
       "      <td>22</td>\n",
       "      <td>20.151842</td>\n",
       "      <td>652.894737</td>\n",
       "      <td>3</td>\n",
       "    </tr>\n",
       "    <tr>\n",
       "      <th>43876</th>\n",
       "      <td>f8c2b6b457</td>\n",
       "      <td>11</td>\n",
       "      <td>30</td>\n",
       "      <td>23</td>\n",
       "      <td>19.925167</td>\n",
       "      <td>450.916667</td>\n",
       "      <td>3</td>\n",
       "    </tr>\n",
       "  </tbody>\n",
       "</table>\n",
       "<p>43877 rows × 7 columns</p>\n",
       "</div>"
      ],
      "text/plain": [
       "             user  month  day  hour     inside  electricity  part_of_day\n",
       "0      014dd64db3     10    1     0  22.059904   916.000000            0\n",
       "1      014dd64db3     10    1     1  21.945667   876.022222            0\n",
       "2      014dd64db3     10    1     2  21.853511   826.978723            0\n",
       "3      014dd64db3     10    1     3  21.767925   877.660377            0\n",
       "4      014dd64db3     10    1     4  21.729500  1043.550000            0\n",
       "...           ...    ...  ...   ...        ...          ...          ...\n",
       "43872  f8c2b6b457     11   30    19  21.336167  1101.416667            3\n",
       "43873  f8c2b6b457     11   30    20  21.326271   782.627119            3\n",
       "43874  f8c2b6b457     11   30    21  20.712583   649.750000            3\n",
       "43875  f8c2b6b457     11   30    22  20.151842   652.894737            3\n",
       "43876  f8c2b6b457     11   30    23  19.925167   450.916667            3\n",
       "\n",
       "[43877 rows x 7 columns]"
      ]
     },
     "execution_count": 104,
     "metadata": {},
     "output_type": "execute_result"
    }
   ],
   "source": [
    "#Add feature part_of_day that breaks the day in 4 parts of 6 hours each.\n",
    "# The idea is to look in the quntiles of temperature and electricity consumption on similar parts of the day (hours 0-6, 6-12, 12-18, 18-24)\n",
    "resampled_df[\"part_of_day\"] = resampled_df[\"hour\"] // 6\n",
    "resampled_df"
   ]
  },
  {
   "cell_type": "code",
   "execution_count": 105,
   "metadata": {},
   "outputs": [],
   "source": [
    "def create_quantiles_for_time_horizon(df, time_col):\n",
    "    horizon_user_quantiles = df[[\"user\", time_col, \"inside\", \"electricity\"]].groupby(by = [\"user\", time_col]).quantile(np.linspace(0,1,21)).reset_index()\n",
    "    horizon_user_quantiles = horizon_user_quantiles.groupby(by = [\"user\", time_col]).agg(lambda  x: x.to_list()).reset_index()\n",
    "    return horizon_user_quantiles"
   ]
  },
  {
   "cell_type": "code",
   "execution_count": 106,
   "metadata": {},
   "outputs": [],
   "source": [
    "hourly_user_quantiles = create_quantiles_for_time_horizon(resampled_df, \"hour\")\n",
    "day_part_user_quantiles = create_quantiles_for_time_horizon(resampled_df, \"part_of_day\")\n",
    "day_part_user_quantiles[\"part_of_day\"] = day_part_user_quantiles[\"part_of_day\"].astype(\"Int64\")\n"
   ]
  },
  {
   "cell_type": "code",
   "execution_count": 107,
   "metadata": {},
   "outputs": [],
   "source": [
    "resampled_df = resampled_df.merge(hourly_user_quantiles, how = \"left\", on = [\"user\", \"hour\"], suffixes = (\"\", \"_hourly_mean\"))\n",
    "resampled_df = resampled_df.merge(day_part_user_quantiles, how = \"left\", on = [\"user\", \"part_of_day\"], suffixes = (\"\", \"_day_part_mean\"))"
   ]
  },
  {
   "cell_type": "code",
   "execution_count": 108,
   "metadata": {},
   "outputs": [
    {
     "data": {
      "text/html": [
       "<div>\n",
       "<style scoped>\n",
       "    .dataframe tbody tr th:only-of-type {\n",
       "        vertical-align: middle;\n",
       "    }\n",
       "\n",
       "    .dataframe tbody tr th {\n",
       "        vertical-align: top;\n",
       "    }\n",
       "\n",
       "    .dataframe thead th {\n",
       "        text-align: right;\n",
       "    }\n",
       "</style>\n",
       "<table border=\"1\" class=\"dataframe\">\n",
       "  <thead>\n",
       "    <tr style=\"text-align: right;\">\n",
       "      <th></th>\n",
       "      <th>user</th>\n",
       "      <th>month</th>\n",
       "      <th>day</th>\n",
       "      <th>hour</th>\n",
       "      <th>inside</th>\n",
       "      <th>electricity</th>\n",
       "      <th>part_of_day</th>\n",
       "      <th>quantiles</th>\n",
       "      <th>inside_hourly_mean</th>\n",
       "      <th>electricity_hourly_mean</th>\n",
       "      <th>inside_day_part_mean</th>\n",
       "      <th>electricity_day_part_mean</th>\n",
       "    </tr>\n",
       "  </thead>\n",
       "  <tbody>\n",
       "    <tr>\n",
       "      <th>0</th>\n",
       "      <td>014dd64db3</td>\n",
       "      <td>10</td>\n",
       "      <td>1</td>\n",
       "      <td>0</td>\n",
       "      <td>22.059904</td>\n",
       "      <td>916.000000</td>\n",
       "      <td>0</td>\n",
       "      <td>[0.0, 0.05, 0.1, 0.15000000000000002, 0.2, 0.2...</td>\n",
       "      <td>[18.006166744230008, 19.03898803292251, 19.215...</td>\n",
       "      <td>[553.5882352941177, 608.2125000000001, 668.186...</td>\n",
       "      <td>[17.37650948650094, 18.320296547177485, 18.785...</td>\n",
       "      <td>[468.0238095238095, 629.1255291005291, 660.409...</td>\n",
       "    </tr>\n",
       "    <tr>\n",
       "      <th>1</th>\n",
       "      <td>014dd64db3</td>\n",
       "      <td>10</td>\n",
       "      <td>1</td>\n",
       "      <td>1</td>\n",
       "      <td>21.945667</td>\n",
       "      <td>876.022222</td>\n",
       "      <td>0</td>\n",
       "      <td>[0.0, 0.05, 0.1, 0.15000000000000002, 0.2, 0.2...</td>\n",
       "      <td>[17.834818319839094, 18.583583339055835, 19.09...</td>\n",
       "      <td>[626.2666666666667, 668.2280701754386, 682.372...</td>\n",
       "      <td>[17.37650948650094, 18.320296547177485, 18.785...</td>\n",
       "      <td>[468.0238095238095, 629.1255291005291, 660.409...</td>\n",
       "    </tr>\n",
       "    <tr>\n",
       "      <th>2</th>\n",
       "      <td>014dd64db3</td>\n",
       "      <td>10</td>\n",
       "      <td>1</td>\n",
       "      <td>2</td>\n",
       "      <td>21.853511</td>\n",
       "      <td>826.978723</td>\n",
       "      <td>0</td>\n",
       "      <td>[0.0, 0.05, 0.1, 0.15000000000000002, 0.2, 0.2...</td>\n",
       "      <td>[17.70076082064022, 18.435555352092596, 18.988...</td>\n",
       "      <td>[468.0238095238095, 596.35, 629.0185185185185,...</td>\n",
       "      <td>[17.37650948650094, 18.320296547177485, 18.785...</td>\n",
       "      <td>[468.0238095238095, 629.1255291005291, 660.409...</td>\n",
       "    </tr>\n",
       "    <tr>\n",
       "      <th>3</th>\n",
       "      <td>014dd64db3</td>\n",
       "      <td>10</td>\n",
       "      <td>1</td>\n",
       "      <td>3</td>\n",
       "      <td>21.767925</td>\n",
       "      <td>877.660377</td>\n",
       "      <td>0</td>\n",
       "      <td>[0.0, 0.05, 0.1, 0.15000000000000002, 0.2, 0.2...</td>\n",
       "      <td>[17.597272595490907, 18.363900203710987, 18.87...</td>\n",
       "      <td>[513.6666666666666, 631.7407407407408, 659.910...</td>\n",
       "      <td>[17.37650948650094, 18.320296547177485, 18.785...</td>\n",
       "      <td>[468.0238095238095, 629.1255291005291, 660.409...</td>\n",
       "    </tr>\n",
       "    <tr>\n",
       "      <th>4</th>\n",
       "      <td>014dd64db3</td>\n",
       "      <td>10</td>\n",
       "      <td>1</td>\n",
       "      <td>4</td>\n",
       "      <td>21.729500</td>\n",
       "      <td>1043.550000</td>\n",
       "      <td>0</td>\n",
       "      <td>[0.0, 0.05, 0.1, 0.15000000000000002, 0.2, 0.2...</td>\n",
       "      <td>[17.467241385889654, 18.273333302240733, 18.73...</td>\n",
       "      <td>[576.6836734693877, 630.7647058823529, 640.740...</td>\n",
       "      <td>[17.37650948650094, 18.320296547177485, 18.785...</td>\n",
       "      <td>[468.0238095238095, 629.1255291005291, 660.409...</td>\n",
       "    </tr>\n",
       "  </tbody>\n",
       "</table>\n",
       "</div>"
      ],
      "text/plain": [
       "         user  month  day  hour     inside  electricity  part_of_day  \\\n",
       "0  014dd64db3     10    1     0  22.059904   916.000000            0   \n",
       "1  014dd64db3     10    1     1  21.945667   876.022222            0   \n",
       "2  014dd64db3     10    1     2  21.853511   826.978723            0   \n",
       "3  014dd64db3     10    1     3  21.767925   877.660377            0   \n",
       "4  014dd64db3     10    1     4  21.729500  1043.550000            0   \n",
       "\n",
       "                                           quantiles  \\\n",
       "0  [0.0, 0.05, 0.1, 0.15000000000000002, 0.2, 0.2...   \n",
       "1  [0.0, 0.05, 0.1, 0.15000000000000002, 0.2, 0.2...   \n",
       "2  [0.0, 0.05, 0.1, 0.15000000000000002, 0.2, 0.2...   \n",
       "3  [0.0, 0.05, 0.1, 0.15000000000000002, 0.2, 0.2...   \n",
       "4  [0.0, 0.05, 0.1, 0.15000000000000002, 0.2, 0.2...   \n",
       "\n",
       "                                  inside_hourly_mean  \\\n",
       "0  [18.006166744230008, 19.03898803292251, 19.215...   \n",
       "1  [17.834818319839094, 18.583583339055835, 19.09...   \n",
       "2  [17.70076082064022, 18.435555352092596, 18.988...   \n",
       "3  [17.597272595490907, 18.363900203710987, 18.87...   \n",
       "4  [17.467241385889654, 18.273333302240733, 18.73...   \n",
       "\n",
       "                             electricity_hourly_mean  \\\n",
       "0  [553.5882352941177, 608.2125000000001, 668.186...   \n",
       "1  [626.2666666666667, 668.2280701754386, 682.372...   \n",
       "2  [468.0238095238095, 596.35, 629.0185185185185,...   \n",
       "3  [513.6666666666666, 631.7407407407408, 659.910...   \n",
       "4  [576.6836734693877, 630.7647058823529, 640.740...   \n",
       "\n",
       "                                inside_day_part_mean  \\\n",
       "0  [17.37650948650094, 18.320296547177485, 18.785...   \n",
       "1  [17.37650948650094, 18.320296547177485, 18.785...   \n",
       "2  [17.37650948650094, 18.320296547177485, 18.785...   \n",
       "3  [17.37650948650094, 18.320296547177485, 18.785...   \n",
       "4  [17.37650948650094, 18.320296547177485, 18.785...   \n",
       "\n",
       "                           electricity_day_part_mean  \n",
       "0  [468.0238095238095, 629.1255291005291, 660.409...  \n",
       "1  [468.0238095238095, 629.1255291005291, 660.409...  \n",
       "2  [468.0238095238095, 629.1255291005291, 660.409...  \n",
       "3  [468.0238095238095, 629.1255291005291, 660.409...  \n",
       "4  [468.0238095238095, 629.1255291005291, 660.409...  "
      ]
     },
     "execution_count": 108,
     "metadata": {},
     "output_type": "execute_result"
    }
   ],
   "source": [
    "resampled_df = resampled_df.rename(columns = {\"level_2\": \"quantiles\"}).drop(\"level_2_day_part_mean\", axis = 1)\n",
    "resampled_df.head()"
   ]
  },
  {
   "cell_type": "code",
   "execution_count": 109,
   "metadata": {},
   "outputs": [],
   "source": [
    "\n",
    "def find_le_idx(num, lst, quantile):\n",
    "    return quantile[bisect(lst, num)-1]\n",
    "\n",
    "def calculate_partial_probabilities(df):\n",
    "    df[\"prob_inside_hour\"] = df.apply(lambda x: find_le_idx(x['inside'], x['inside_hourly_mean'], x[\"quantiles\"]), axis=1)\n",
    "    df[\"prob_inside_day_part\"] = df.apply(lambda x: find_le_idx(x['inside'], x['inside_day_part_mean'], x[\"quantiles\"]), axis=1)\n",
    "    df[\"prob_electricity_hour\"] = df.apply(lambda x: find_le_idx(x['electricity'], x['electricity_hourly_mean'], x[\"quantiles\"]), axis=1)\n",
    "    df[\"prob_electricity_day_part\"] = df.apply(lambda x: find_le_idx(x['electricity'], x['electricity_day_part_mean'], x[\"quantiles\"]), axis=1)\n",
    "    return df\n"
   ]
  },
  {
   "cell_type": "code",
   "execution_count": 110,
   "metadata": {},
   "outputs": [],
   "source": [
    "resampled_df = calculate_partial_probabilities(resampled_df)\n"
   ]
  },
  {
   "cell_type": "code",
   "execution_count": 111,
   "metadata": {},
   "outputs": [],
   "source": [
    "resampled_df[\"prob_presence\"] = (resampled_df[\"prob_inside_hour\"] + resampled_df[\"prob_inside_day_part\"] + resampled_df[\"prob_electricity_hour\"] + resampled_df[\"prob_electricity_day_part\"]) / 4"
   ]
  },
  {
   "cell_type": "code",
   "execution_count": 112,
   "metadata": {},
   "outputs": [
    {
     "data": {
      "text/html": [
       "<div>\n",
       "<style scoped>\n",
       "    .dataframe tbody tr th:only-of-type {\n",
       "        vertical-align: middle;\n",
       "    }\n",
       "\n",
       "    .dataframe tbody tr th {\n",
       "        vertical-align: top;\n",
       "    }\n",
       "\n",
       "    .dataframe thead th {\n",
       "        text-align: right;\n",
       "    }\n",
       "</style>\n",
       "<table border=\"1\" class=\"dataframe\">\n",
       "  <thead>\n",
       "    <tr style=\"text-align: right;\">\n",
       "      <th></th>\n",
       "      <th>user</th>\n",
       "      <th>month</th>\n",
       "      <th>day</th>\n",
       "      <th>hour</th>\n",
       "      <th>inside</th>\n",
       "      <th>electricity</th>\n",
       "      <th>part_of_day</th>\n",
       "      <th>quantiles</th>\n",
       "      <th>inside_hourly_mean</th>\n",
       "      <th>electricity_hourly_mean</th>\n",
       "      <th>inside_day_part_mean</th>\n",
       "      <th>electricity_day_part_mean</th>\n",
       "      <th>prob_inside_hour</th>\n",
       "      <th>prob_inside_day_part</th>\n",
       "      <th>prob_electricity_hour</th>\n",
       "      <th>prob_electricity_day_part</th>\n",
       "      <th>prob_presence</th>\n",
       "    </tr>\n",
       "  </thead>\n",
       "  <tbody>\n",
       "    <tr>\n",
       "      <th>0</th>\n",
       "      <td>014dd64db3</td>\n",
       "      <td>10</td>\n",
       "      <td>1</td>\n",
       "      <td>0</td>\n",
       "      <td>22.059904</td>\n",
       "      <td>916.000000</td>\n",
       "      <td>0</td>\n",
       "      <td>[0.0, 0.05, 0.1, 0.15000000000000002, 0.2, 0.2...</td>\n",
       "      <td>[18.006166744230008, 19.03898803292251, 19.215...</td>\n",
       "      <td>[553.5882352941177, 608.2125000000001, 668.186...</td>\n",
       "      <td>[17.37650948650094, 18.320296547177485, 18.785...</td>\n",
       "      <td>[468.0238095238095, 629.1255291005291, 660.409...</td>\n",
       "      <td>1.00</td>\n",
       "      <td>1.00</td>\n",
       "      <td>0.60</td>\n",
       "      <td>0.60</td>\n",
       "      <td>0.8000</td>\n",
       "    </tr>\n",
       "    <tr>\n",
       "      <th>1</th>\n",
       "      <td>014dd64db3</td>\n",
       "      <td>10</td>\n",
       "      <td>1</td>\n",
       "      <td>1</td>\n",
       "      <td>21.945667</td>\n",
       "      <td>876.022222</td>\n",
       "      <td>0</td>\n",
       "      <td>[0.0, 0.05, 0.1, 0.15000000000000002, 0.2, 0.2...</td>\n",
       "      <td>[17.834818319839094, 18.583583339055835, 19.09...</td>\n",
       "      <td>[626.2666666666667, 668.2280701754386, 682.372...</td>\n",
       "      <td>[17.37650948650094, 18.320296547177485, 18.785...</td>\n",
       "      <td>[468.0238095238095, 629.1255291005291, 660.409...</td>\n",
       "      <td>1.00</td>\n",
       "      <td>0.95</td>\n",
       "      <td>0.60</td>\n",
       "      <td>0.55</td>\n",
       "      <td>0.7750</td>\n",
       "    </tr>\n",
       "    <tr>\n",
       "      <th>2</th>\n",
       "      <td>014dd64db3</td>\n",
       "      <td>10</td>\n",
       "      <td>1</td>\n",
       "      <td>2</td>\n",
       "      <td>21.853511</td>\n",
       "      <td>826.978723</td>\n",
       "      <td>0</td>\n",
       "      <td>[0.0, 0.05, 0.1, 0.15000000000000002, 0.2, 0.2...</td>\n",
       "      <td>[17.70076082064022, 18.435555352092596, 18.988...</td>\n",
       "      <td>[468.0238095238095, 596.35, 629.0185185185185,...</td>\n",
       "      <td>[17.37650948650094, 18.320296547177485, 18.785...</td>\n",
       "      <td>[468.0238095238095, 629.1255291005291, 660.409...</td>\n",
       "      <td>1.00</td>\n",
       "      <td>0.95</td>\n",
       "      <td>0.45</td>\n",
       "      <td>0.40</td>\n",
       "      <td>0.7000</td>\n",
       "    </tr>\n",
       "    <tr>\n",
       "      <th>3</th>\n",
       "      <td>014dd64db3</td>\n",
       "      <td>10</td>\n",
       "      <td>1</td>\n",
       "      <td>3</td>\n",
       "      <td>21.767925</td>\n",
       "      <td>877.660377</td>\n",
       "      <td>0</td>\n",
       "      <td>[0.0, 0.05, 0.1, 0.15000000000000002, 0.2, 0.2...</td>\n",
       "      <td>[17.597272595490907, 18.363900203710987, 18.87...</td>\n",
       "      <td>[513.6666666666666, 631.7407407407408, 659.910...</td>\n",
       "      <td>[17.37650948650094, 18.320296547177485, 18.785...</td>\n",
       "      <td>[468.0238095238095, 629.1255291005291, 660.409...</td>\n",
       "      <td>1.00</td>\n",
       "      <td>0.95</td>\n",
       "      <td>0.55</td>\n",
       "      <td>0.55</td>\n",
       "      <td>0.7625</td>\n",
       "    </tr>\n",
       "    <tr>\n",
       "      <th>4</th>\n",
       "      <td>014dd64db3</td>\n",
       "      <td>10</td>\n",
       "      <td>1</td>\n",
       "      <td>4</td>\n",
       "      <td>21.729500</td>\n",
       "      <td>1043.550000</td>\n",
       "      <td>0</td>\n",
       "      <td>[0.0, 0.05, 0.1, 0.15000000000000002, 0.2, 0.2...</td>\n",
       "      <td>[17.467241385889654, 18.273333302240733, 18.73...</td>\n",
       "      <td>[576.6836734693877, 630.7647058823529, 640.740...</td>\n",
       "      <td>[17.37650948650094, 18.320296547177485, 18.785...</td>\n",
       "      <td>[468.0238095238095, 629.1255291005291, 660.409...</td>\n",
       "      <td>1.00</td>\n",
       "      <td>0.95</td>\n",
       "      <td>0.80</td>\n",
       "      <td>0.75</td>\n",
       "      <td>0.8750</td>\n",
       "    </tr>\n",
       "    <tr>\n",
       "      <th>...</th>\n",
       "      <td>...</td>\n",
       "      <td>...</td>\n",
       "      <td>...</td>\n",
       "      <td>...</td>\n",
       "      <td>...</td>\n",
       "      <td>...</td>\n",
       "      <td>...</td>\n",
       "      <td>...</td>\n",
       "      <td>...</td>\n",
       "      <td>...</td>\n",
       "      <td>...</td>\n",
       "      <td>...</td>\n",
       "      <td>...</td>\n",
       "      <td>...</td>\n",
       "      <td>...</td>\n",
       "      <td>...</td>\n",
       "      <td>...</td>\n",
       "    </tr>\n",
       "    <tr>\n",
       "      <th>43872</th>\n",
       "      <td>f8c2b6b457</td>\n",
       "      <td>11</td>\n",
       "      <td>30</td>\n",
       "      <td>19</td>\n",
       "      <td>21.336167</td>\n",
       "      <td>1101.416667</td>\n",
       "      <td>3</td>\n",
       "      <td>[0.0, 0.05, 0.1, 0.15000000000000002, 0.2, 0.2...</td>\n",
       "      <td>[18.837069166131045, 19.667583036420005, 20.07...</td>\n",
       "      <td>[687.1111111111111, 944.75, 1062.155172413793,...</td>\n",
       "      <td>[18.11933336258166, 19.290589622315633, 19.594...</td>\n",
       "      <td>[355.30555555555554, 451.05208333333337, 490.0...</td>\n",
       "      <td>0.75</td>\n",
       "      <td>0.85</td>\n",
       "      <td>0.15</td>\n",
       "      <td>0.45</td>\n",
       "      <td>0.5500</td>\n",
       "    </tr>\n",
       "    <tr>\n",
       "      <th>43873</th>\n",
       "      <td>f8c2b6b457</td>\n",
       "      <td>11</td>\n",
       "      <td>30</td>\n",
       "      <td>20</td>\n",
       "      <td>21.326271</td>\n",
       "      <td>782.627119</td>\n",
       "      <td>3</td>\n",
       "      <td>[0.0, 0.05, 0.1, 0.15000000000000002, 0.2, 0.2...</td>\n",
       "      <td>[18.784901899447053, 19.582333310435, 19.98175...</td>\n",
       "      <td>[613.4166666666666, 677.3333333333334, 766.666...</td>\n",
       "      <td>[18.11933336258166, 19.290589622315633, 19.594...</td>\n",
       "      <td>[355.30555555555554, 451.05208333333337, 490.0...</td>\n",
       "      <td>0.80</td>\n",
       "      <td>0.85</td>\n",
       "      <td>0.10</td>\n",
       "      <td>0.30</td>\n",
       "      <td>0.5125</td>\n",
       "    </tr>\n",
       "    <tr>\n",
       "      <th>43874</th>\n",
       "      <td>f8c2b6b457</td>\n",
       "      <td>11</td>\n",
       "      <td>30</td>\n",
       "      <td>21</td>\n",
       "      <td>20.712583</td>\n",
       "      <td>649.750000</td>\n",
       "      <td>3</td>\n",
       "      <td>[0.0, 0.05, 0.1, 0.15000000000000002, 0.2, 0.2...</td>\n",
       "      <td>[18.486416641871667, 19.448220236835596, 19.59...</td>\n",
       "      <td>[433.5833333333333, 537.2033898305085, 649.75,...</td>\n",
       "      <td>[18.11933336258166, 19.290589622315633, 19.594...</td>\n",
       "      <td>[355.30555555555554, 451.05208333333337, 490.0...</td>\n",
       "      <td>0.55</td>\n",
       "      <td>0.50</td>\n",
       "      <td>0.10</td>\n",
       "      <td>0.20</td>\n",
       "      <td>0.3375</td>\n",
       "    </tr>\n",
       "    <tr>\n",
       "      <th>43875</th>\n",
       "      <td>f8c2b6b457</td>\n",
       "      <td>11</td>\n",
       "      <td>30</td>\n",
       "      <td>22</td>\n",
       "      <td>20.151842</td>\n",
       "      <td>652.894737</td>\n",
       "      <td>3</td>\n",
       "      <td>[0.0, 0.05, 0.1, 0.15000000000000002, 0.2, 0.2...</td>\n",
       "      <td>[18.274166838346666, 19.289916563037504, 19.47...</td>\n",
       "      <td>[355.30555555555554, 439.6666666666667, 462.08...</td>\n",
       "      <td>[18.11933336258166, 19.290589622315633, 19.594...</td>\n",
       "      <td>[355.30555555555554, 451.05208333333337, 490.0...</td>\n",
       "      <td>0.35</td>\n",
       "      <td>0.20</td>\n",
       "      <td>0.40</td>\n",
       "      <td>0.20</td>\n",
       "      <td>0.2875</td>\n",
       "    </tr>\n",
       "    <tr>\n",
       "      <th>43876</th>\n",
       "      <td>f8c2b6b457</td>\n",
       "      <td>11</td>\n",
       "      <td>30</td>\n",
       "      <td>23</td>\n",
       "      <td>19.925167</td>\n",
       "      <td>450.916667</td>\n",
       "      <td>3</td>\n",
       "      <td>[0.0, 0.05, 0.1, 0.15000000000000002, 0.2, 0.2...</td>\n",
       "      <td>[18.11933336258166, 19.064166673024996, 19.307...</td>\n",
       "      <td>[382.8333333333333, 398.954802259887, 434.3390...</td>\n",
       "      <td>[18.11933336258166, 19.290589622315633, 19.594...</td>\n",
       "      <td>[355.30555555555554, 451.05208333333337, 490.0...</td>\n",
       "      <td>0.30</td>\n",
       "      <td>0.15</td>\n",
       "      <td>0.15</td>\n",
       "      <td>0.00</td>\n",
       "      <td>0.1500</td>\n",
       "    </tr>\n",
       "  </tbody>\n",
       "</table>\n",
       "<p>43877 rows × 17 columns</p>\n",
       "</div>"
      ],
      "text/plain": [
       "             user  month  day  hour     inside  electricity  part_of_day  \\\n",
       "0      014dd64db3     10    1     0  22.059904   916.000000            0   \n",
       "1      014dd64db3     10    1     1  21.945667   876.022222            0   \n",
       "2      014dd64db3     10    1     2  21.853511   826.978723            0   \n",
       "3      014dd64db3     10    1     3  21.767925   877.660377            0   \n",
       "4      014dd64db3     10    1     4  21.729500  1043.550000            0   \n",
       "...           ...    ...  ...   ...        ...          ...          ...   \n",
       "43872  f8c2b6b457     11   30    19  21.336167  1101.416667            3   \n",
       "43873  f8c2b6b457     11   30    20  21.326271   782.627119            3   \n",
       "43874  f8c2b6b457     11   30    21  20.712583   649.750000            3   \n",
       "43875  f8c2b6b457     11   30    22  20.151842   652.894737            3   \n",
       "43876  f8c2b6b457     11   30    23  19.925167   450.916667            3   \n",
       "\n",
       "                                               quantiles  \\\n",
       "0      [0.0, 0.05, 0.1, 0.15000000000000002, 0.2, 0.2...   \n",
       "1      [0.0, 0.05, 0.1, 0.15000000000000002, 0.2, 0.2...   \n",
       "2      [0.0, 0.05, 0.1, 0.15000000000000002, 0.2, 0.2...   \n",
       "3      [0.0, 0.05, 0.1, 0.15000000000000002, 0.2, 0.2...   \n",
       "4      [0.0, 0.05, 0.1, 0.15000000000000002, 0.2, 0.2...   \n",
       "...                                                  ...   \n",
       "43872  [0.0, 0.05, 0.1, 0.15000000000000002, 0.2, 0.2...   \n",
       "43873  [0.0, 0.05, 0.1, 0.15000000000000002, 0.2, 0.2...   \n",
       "43874  [0.0, 0.05, 0.1, 0.15000000000000002, 0.2, 0.2...   \n",
       "43875  [0.0, 0.05, 0.1, 0.15000000000000002, 0.2, 0.2...   \n",
       "43876  [0.0, 0.05, 0.1, 0.15000000000000002, 0.2, 0.2...   \n",
       "\n",
       "                                      inside_hourly_mean  \\\n",
       "0      [18.006166744230008, 19.03898803292251, 19.215...   \n",
       "1      [17.834818319839094, 18.583583339055835, 19.09...   \n",
       "2      [17.70076082064022, 18.435555352092596, 18.988...   \n",
       "3      [17.597272595490907, 18.363900203710987, 18.87...   \n",
       "4      [17.467241385889654, 18.273333302240733, 18.73...   \n",
       "...                                                  ...   \n",
       "43872  [18.837069166131045, 19.667583036420005, 20.07...   \n",
       "43873  [18.784901899447053, 19.582333310435, 19.98175...   \n",
       "43874  [18.486416641871667, 19.448220236835596, 19.59...   \n",
       "43875  [18.274166838346666, 19.289916563037504, 19.47...   \n",
       "43876  [18.11933336258166, 19.064166673024996, 19.307...   \n",
       "\n",
       "                                 electricity_hourly_mean  \\\n",
       "0      [553.5882352941177, 608.2125000000001, 668.186...   \n",
       "1      [626.2666666666667, 668.2280701754386, 682.372...   \n",
       "2      [468.0238095238095, 596.35, 629.0185185185185,...   \n",
       "3      [513.6666666666666, 631.7407407407408, 659.910...   \n",
       "4      [576.6836734693877, 630.7647058823529, 640.740...   \n",
       "...                                                  ...   \n",
       "43872  [687.1111111111111, 944.75, 1062.155172413793,...   \n",
       "43873  [613.4166666666666, 677.3333333333334, 766.666...   \n",
       "43874  [433.5833333333333, 537.2033898305085, 649.75,...   \n",
       "43875  [355.30555555555554, 439.6666666666667, 462.08...   \n",
       "43876  [382.8333333333333, 398.954802259887, 434.3390...   \n",
       "\n",
       "                                    inside_day_part_mean  \\\n",
       "0      [17.37650948650094, 18.320296547177485, 18.785...   \n",
       "1      [17.37650948650094, 18.320296547177485, 18.785...   \n",
       "2      [17.37650948650094, 18.320296547177485, 18.785...   \n",
       "3      [17.37650948650094, 18.320296547177485, 18.785...   \n",
       "4      [17.37650948650094, 18.320296547177485, 18.785...   \n",
       "...                                                  ...   \n",
       "43872  [18.11933336258166, 19.290589622315633, 19.594...   \n",
       "43873  [18.11933336258166, 19.290589622315633, 19.594...   \n",
       "43874  [18.11933336258166, 19.290589622315633, 19.594...   \n",
       "43875  [18.11933336258166, 19.290589622315633, 19.594...   \n",
       "43876  [18.11933336258166, 19.290589622315633, 19.594...   \n",
       "\n",
       "                               electricity_day_part_mean  prob_inside_hour  \\\n",
       "0      [468.0238095238095, 629.1255291005291, 660.409...              1.00   \n",
       "1      [468.0238095238095, 629.1255291005291, 660.409...              1.00   \n",
       "2      [468.0238095238095, 629.1255291005291, 660.409...              1.00   \n",
       "3      [468.0238095238095, 629.1255291005291, 660.409...              1.00   \n",
       "4      [468.0238095238095, 629.1255291005291, 660.409...              1.00   \n",
       "...                                                  ...               ...   \n",
       "43872  [355.30555555555554, 451.05208333333337, 490.0...              0.75   \n",
       "43873  [355.30555555555554, 451.05208333333337, 490.0...              0.80   \n",
       "43874  [355.30555555555554, 451.05208333333337, 490.0...              0.55   \n",
       "43875  [355.30555555555554, 451.05208333333337, 490.0...              0.35   \n",
       "43876  [355.30555555555554, 451.05208333333337, 490.0...              0.30   \n",
       "\n",
       "       prob_inside_day_part  prob_electricity_hour  prob_electricity_day_part  \\\n",
       "0                      1.00                   0.60                       0.60   \n",
       "1                      0.95                   0.60                       0.55   \n",
       "2                      0.95                   0.45                       0.40   \n",
       "3                      0.95                   0.55                       0.55   \n",
       "4                      0.95                   0.80                       0.75   \n",
       "...                     ...                    ...                        ...   \n",
       "43872                  0.85                   0.15                       0.45   \n",
       "43873                  0.85                   0.10                       0.30   \n",
       "43874                  0.50                   0.10                       0.20   \n",
       "43875                  0.20                   0.40                       0.20   \n",
       "43876                  0.15                   0.15                       0.00   \n",
       "\n",
       "       prob_presence  \n",
       "0             0.8000  \n",
       "1             0.7750  \n",
       "2             0.7000  \n",
       "3             0.7625  \n",
       "4             0.8750  \n",
       "...              ...  \n",
       "43872         0.5500  \n",
       "43873         0.5125  \n",
       "43874         0.3375  \n",
       "43875         0.2875  \n",
       "43876         0.1500  \n",
       "\n",
       "[43877 rows x 17 columns]"
      ]
     },
     "execution_count": 112,
     "metadata": {},
     "output_type": "execute_result"
    }
   ],
   "source": [
    "resampled_df"
   ]
  },
  {
   "cell_type": "code",
   "execution_count": 113,
   "metadata": {},
   "outputs": [],
   "source": [
    "probability_df = resampled_df.groupby(by = [\"user\", \"hour\"]).agg({\"prob_presence\": \"mean\"}).reset_index()"
   ]
  },
  {
   "cell_type": "code",
   "execution_count": 114,
   "metadata": {},
   "outputs": [
    {
     "data": {
      "text/html": [
       "<div>\n",
       "<style scoped>\n",
       "    .dataframe tbody tr th:only-of-type {\n",
       "        vertical-align: middle;\n",
       "    }\n",
       "\n",
       "    .dataframe tbody tr th {\n",
       "        vertical-align: top;\n",
       "    }\n",
       "\n",
       "    .dataframe thead th {\n",
       "        text-align: right;\n",
       "    }\n",
       "</style>\n",
       "<table border=\"1\" class=\"dataframe\">\n",
       "  <thead>\n",
       "    <tr style=\"text-align: right;\">\n",
       "      <th></th>\n",
       "      <th>user</th>\n",
       "      <th>hour</th>\n",
       "      <th>prob_presence</th>\n",
       "    </tr>\n",
       "  </thead>\n",
       "  <tbody>\n",
       "    <tr>\n",
       "      <th>0</th>\n",
       "      <td>014dd64db3</td>\n",
       "      <td>0</td>\n",
       "      <td>0.511667</td>\n",
       "    </tr>\n",
       "    <tr>\n",
       "      <th>1</th>\n",
       "      <td>014dd64db3</td>\n",
       "      <td>1</td>\n",
       "      <td>0.490369</td>\n",
       "    </tr>\n",
       "    <tr>\n",
       "      <th>2</th>\n",
       "      <td>014dd64db3</td>\n",
       "      <td>2</td>\n",
       "      <td>0.473975</td>\n",
       "    </tr>\n",
       "    <tr>\n",
       "      <th>3</th>\n",
       "      <td>014dd64db3</td>\n",
       "      <td>3</td>\n",
       "      <td>0.467008</td>\n",
       "    </tr>\n",
       "    <tr>\n",
       "      <th>4</th>\n",
       "      <td>014dd64db3</td>\n",
       "      <td>4</td>\n",
       "      <td>0.448566</td>\n",
       "    </tr>\n",
       "    <tr>\n",
       "      <th>...</th>\n",
       "      <td>...</td>\n",
       "      <td>...</td>\n",
       "      <td>...</td>\n",
       "    </tr>\n",
       "    <tr>\n",
       "      <th>715</th>\n",
       "      <td>f8c2b6b457</td>\n",
       "      <td>19</td>\n",
       "      <td>0.548566</td>\n",
       "    </tr>\n",
       "    <tr>\n",
       "      <th>716</th>\n",
       "      <td>f8c2b6b457</td>\n",
       "      <td>20</td>\n",
       "      <td>0.513525</td>\n",
       "    </tr>\n",
       "    <tr>\n",
       "      <th>717</th>\n",
       "      <td>f8c2b6b457</td>\n",
       "      <td>21</td>\n",
       "      <td>0.477254</td>\n",
       "    </tr>\n",
       "    <tr>\n",
       "      <th>718</th>\n",
       "      <td>f8c2b6b457</td>\n",
       "      <td>22</td>\n",
       "      <td>0.409836</td>\n",
       "    </tr>\n",
       "    <tr>\n",
       "      <th>719</th>\n",
       "      <td>f8c2b6b457</td>\n",
       "      <td>23</td>\n",
       "      <td>0.354508</td>\n",
       "    </tr>\n",
       "  </tbody>\n",
       "</table>\n",
       "<p>720 rows × 3 columns</p>\n",
       "</div>"
      ],
      "text/plain": [
       "           user  hour  prob_presence\n",
       "0    014dd64db3     0       0.511667\n",
       "1    014dd64db3     1       0.490369\n",
       "2    014dd64db3     2       0.473975\n",
       "3    014dd64db3     3       0.467008\n",
       "4    014dd64db3     4       0.448566\n",
       "..          ...   ...            ...\n",
       "715  f8c2b6b457    19       0.548566\n",
       "716  f8c2b6b457    20       0.513525\n",
       "717  f8c2b6b457    21       0.477254\n",
       "718  f8c2b6b457    22       0.409836\n",
       "719  f8c2b6b457    23       0.354508\n",
       "\n",
       "[720 rows x 3 columns]"
      ]
     },
     "execution_count": 114,
     "metadata": {},
     "output_type": "execute_result"
    }
   ],
   "source": [
    "probability_df"
   ]
  },
  {
   "cell_type": "code",
   "execution_count": 115,
   "metadata": {},
   "outputs": [],
   "source": [
    "def plot_user_probabilities(user):\n",
    "    plt.plot( probability_df.loc[probability_df[\"user\"] == \"e3e4bd132d\"][\"hour\"], probability_df.loc[probability_df[\"user\"] == \"e3e4bd132d\"][\"prob_presence\"])\n",
    "    plt.ylabel(\"Probability\")\n",
    "    plt.xlabel(\"Hour\")\n",
    "    plt.title(f\"User: {user}\")\n",
    "    plt.show()"
   ]
  },
  {
   "cell_type": "code",
   "execution_count": 116,
   "metadata": {},
   "outputs": [
    {
     "data": {
      "image/png": "[encoded data removed]",
      "text/plain": [
       "<Figure size 432x288 with 1 Axes>"
      ]
     },
     "metadata": {
      "needs_background": "light"
     },
     "output_type": "display_data"
    }
   ],
   "source": [
    "plot_user_probabilities(\"e3e4bd132d\")"
   ]
  },
  {
   "cell_type": "code",
   "execution_count": 117,
   "metadata": {},
   "outputs": [
    {
     "data": {
      "text/plain": [
       "[<matplotlib.lines.Line2D at 0x248245b5c10>]"
      ]
     },
     "execution_count": 117,
     "metadata": {},
     "output_type": "execute_result"
    },
    {
     "data": {
      "image/png": "[encoded data removed]",
      "text/plain": [
       "<Figure size 432x288 with 1 Axes>"
      ]
     },
     "metadata": {
      "needs_background": "light"
     },
     "output_type": "display_data"
    }
   ],
   "source": [
    "#Plot mean house-presence probabilites per hour for all users\n",
    "agg_df = probability_df.groupby(by = \"hour\").mean()\n",
    "plt.plot(agg_df.index, agg_df[\"prob_presence\"])"
   ]
  },
  {
   "cell_type": "code",
   "execution_count": null,
   "metadata": {},
   "outputs": [],
   "source": []
  }
 ],
 "metadata": {
  "kernelspec": {
   "display_name": "Python 3",
   "language": "python",
   "name": "python3"
  },
  "language_info": {
   "codemirror_mode": {
    "name": "ipython",
    "version": 3
   },
   "file_extension": ".py",
   "mimetype": "text/x-python",
   "name": "python",
   "nbconvert_exporter": "python",
   "pygments_lexer": "ipython3",
   "version": "3.8.5"
  }
 },
 "nbformat": 4,
 "nbformat_minor": 5
}
